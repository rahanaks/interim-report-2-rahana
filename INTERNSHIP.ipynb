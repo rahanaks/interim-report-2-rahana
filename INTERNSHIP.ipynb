{
 "cells": [
  {
   "cell_type": "markdown",
   "id": "959b7b19",
   "metadata": {},
   "source": [
    "# RIO- 125 Classification Model - Build a Model that Classifies the Side Effects of a Drug"
   ]
  },
  {
   "cell_type": "code",
   "execution_count": 1,
   "id": "8bb3b69c",
   "metadata": {},
   "outputs": [],
   "source": [
    "#import required libraries\n",
    "\n",
    "import pandas as pd\n",
    "import numpy as np\n",
    "from faker import Faker\n",
    "\n",
    "# Plotting the data:\n",
    "import matplotlib.pyplot as plt\n",
    "import seaborn as sns \n",
    "\n",
    "# Preprocessing the dataset:\n",
    "from sklearn.preprocessing import LabelEncoder\n",
    "from sklearn.preprocessing import StandardScaler\n",
    "from sklearn.preprocessing import MinMaxScaler\n",
    "\n",
    "\n",
    "# Remove warnings:\n",
    "import warnings\n",
    "warnings.filterwarnings(\"ignore\", category=DeprecationWarning)\n",
    "warnings.filterwarnings(\"ignore\", category=FutureWarning)\n",
    "warnings.filterwarnings(\"ignore\", category=UserWarning)"
   ]
  },
  {
   "cell_type": "code",
   "execution_count": 2,
   "id": "eccc8dfe",
   "metadata": {},
   "outputs": [
    {
     "data": {
      "text/html": [
       "<div>\n",
       "<style scoped>\n",
       "    .dataframe tbody tr th:only-of-type {\n",
       "        vertical-align: middle;\n",
       "    }\n",
       "\n",
       "    .dataframe tbody tr th {\n",
       "        vertical-align: top;\n",
       "    }\n",
       "\n",
       "    .dataframe thead th {\n",
       "        text-align: right;\n",
       "    }\n",
       "</style>\n",
       "<table border=\"1\" class=\"dataframe\">\n",
       "  <thead>\n",
       "    <tr style=\"text-align: right;\">\n",
       "      <th></th>\n",
       "      <th>Age</th>\n",
       "      <th>Condition</th>\n",
       "      <th>Date</th>\n",
       "      <th>Drug</th>\n",
       "      <th>DrugId</th>\n",
       "      <th>EaseofUse</th>\n",
       "      <th>Effectiveness</th>\n",
       "      <th>Reviews</th>\n",
       "      <th>Satisfaction</th>\n",
       "      <th>Sex</th>\n",
       "      <th>Sides</th>\n",
       "      <th>UsefulCount</th>\n",
       "    </tr>\n",
       "  </thead>\n",
       "  <tbody>\n",
       "    <tr>\n",
       "      <th>0</th>\n",
       "      <td>75 or over</td>\n",
       "      <td>Stuffy Nose</td>\n",
       "      <td>9/21/2014</td>\n",
       "      <td>25dph-7.5peh</td>\n",
       "      <td>146724</td>\n",
       "      <td>5</td>\n",
       "      <td>5</td>\n",
       "      <td>I'm a retired physician and of all the meds I ...</td>\n",
       "      <td>5</td>\n",
       "      <td>Male</td>\n",
       "      <td>Drowsiness,  dizziness ,  dry mouth /nose/thro...</td>\n",
       "      <td>0</td>\n",
       "    </tr>\n",
       "    <tr>\n",
       "      <th>1</th>\n",
       "      <td>25-34</td>\n",
       "      <td>Cold Symptoms</td>\n",
       "      <td>1/13/2011</td>\n",
       "      <td>25dph-7.5peh</td>\n",
       "      <td>146724</td>\n",
       "      <td>5</td>\n",
       "      <td>5</td>\n",
       "      <td>cleared me right up even with my throat hurtin...</td>\n",
       "      <td>5</td>\n",
       "      <td>Female</td>\n",
       "      <td>Drowsiness,  dizziness ,  dry mouth /nose/thro...</td>\n",
       "      <td>1</td>\n",
       "    </tr>\n",
       "    <tr>\n",
       "      <th>2</th>\n",
       "      <td>65-74</td>\n",
       "      <td>Other</td>\n",
       "      <td>7/16/2012</td>\n",
       "      <td>warfarin (bulk) 100 % powder</td>\n",
       "      <td>144731</td>\n",
       "      <td>2</td>\n",
       "      <td>3</td>\n",
       "      <td>why did my PTINR go from a normal of 2.5 to ov...</td>\n",
       "      <td>3</td>\n",
       "      <td>Female</td>\n",
       "      <td></td>\n",
       "      <td>0</td>\n",
       "    </tr>\n",
       "    <tr>\n",
       "      <th>3</th>\n",
       "      <td>75 or over</td>\n",
       "      <td>Other</td>\n",
       "      <td>9/23/2010</td>\n",
       "      <td>warfarin (bulk) 100 % powder</td>\n",
       "      <td>144731</td>\n",
       "      <td>2</td>\n",
       "      <td>2</td>\n",
       "      <td>FALLING AND DON'T REALISE IT</td>\n",
       "      <td>1</td>\n",
       "      <td>Female</td>\n",
       "      <td></td>\n",
       "      <td>0</td>\n",
       "    </tr>\n",
       "    <tr>\n",
       "      <th>4</th>\n",
       "      <td>35-44</td>\n",
       "      <td>Other</td>\n",
       "      <td>1/6/2009</td>\n",
       "      <td>warfarin (bulk) 100 % powder</td>\n",
       "      <td>144731</td>\n",
       "      <td>1</td>\n",
       "      <td>1</td>\n",
       "      <td>My grandfather was prescribed this medication ...</td>\n",
       "      <td>1</td>\n",
       "      <td>Male</td>\n",
       "      <td></td>\n",
       "      <td>1</td>\n",
       "    </tr>\n",
       "  </tbody>\n",
       "</table>\n",
       "</div>"
      ],
      "text/plain": [
       "          Age      Condition       Date                          Drug  DrugId  \\\n",
       "0  75 or over    Stuffy Nose  9/21/2014                  25dph-7.5peh  146724   \n",
       "1       25-34  Cold Symptoms  1/13/2011                  25dph-7.5peh  146724   \n",
       "2       65-74          Other  7/16/2012  warfarin (bulk) 100 % powder  144731   \n",
       "3  75 or over          Other  9/23/2010  warfarin (bulk) 100 % powder  144731   \n",
       "4       35-44          Other   1/6/2009  warfarin (bulk) 100 % powder  144731   \n",
       "\n",
       "   EaseofUse  Effectiveness  \\\n",
       "0          5              5   \n",
       "1          5              5   \n",
       "2          2              3   \n",
       "3          2              2   \n",
       "4          1              1   \n",
       "\n",
       "                                             Reviews  Satisfaction     Sex  \\\n",
       "0  I'm a retired physician and of all the meds I ...             5    Male   \n",
       "1  cleared me right up even with my throat hurtin...             5  Female   \n",
       "2  why did my PTINR go from a normal of 2.5 to ov...             3  Female   \n",
       "3                       FALLING AND DON'T REALISE IT             1  Female   \n",
       "4  My grandfather was prescribed this medication ...             1    Male   \n",
       "\n",
       "                                               Sides  UsefulCount  \n",
       "0  Drowsiness,  dizziness ,  dry mouth /nose/thro...            0  \n",
       "1  Drowsiness,  dizziness ,  dry mouth /nose/thro...            1  \n",
       "2                                                               0  \n",
       "3                                                               0  \n",
       "4                                                               1  "
      ]
     },
     "execution_count": 2,
     "metadata": {},
     "output_type": "execute_result"
    }
   ],
   "source": [
    "#Read the dataset and display\n",
    "\n",
    "data=pd.read_csv(r'C:\\Users\\DELL\\Downloads\\webmd.csv')\n",
    "data.head()"
   ]
  },
  {
   "cell_type": "markdown",
   "id": "57c8995c",
   "metadata": {},
   "source": [
    "Description of the dataset\n",
    "Name : Name of the patient\n",
    "\n",
    "Race : Race of the patient\n",
    "\n",
    "Age : Age of the patient\n",
    "\n",
    "Condition : Condition/symptom from which the patient is suffering\n",
    "\n",
    "Date : Date of usage\n",
    "\n",
    "Drug : Name of the drug\n",
    "\n",
    "DrugId : Identity/code of drug\n",
    "\n",
    "EaseofUse : Patient's 10-Star rating on the ease of use of drug\n",
    "\n",
    "Effectiveness : Patient's 10-Star rating on the effectiveness of drug\n",
    "\n",
    "Reviews : Patient's review\n",
    "\n",
    "Satisfaction : Patient's 10-Star rating on satisfaction\n",
    "\n",
    "Sex : Gender of the patient\n",
    "\n",
    "Sides : Side effects of the drug\n",
    "\n",
    "UsefulCount : Number of users who found the review useful"
   ]
  },
  {
   "cell_type": "code",
   "execution_count": 3,
   "id": "6c9a6bd4",
   "metadata": {},
   "outputs": [
    {
     "name": "stdout",
     "output_type": "stream",
     "text": [
      "<class 'pandas.core.frame.DataFrame'>\n",
      "RangeIndex: 362806 entries, 0 to 362805\n",
      "Data columns (total 12 columns):\n",
      " #   Column         Non-Null Count   Dtype \n",
      "---  ------         --------------   ----- \n",
      " 0   Age            362806 non-null  object\n",
      " 1   Condition      362806 non-null  object\n",
      " 2   Date           362806 non-null  object\n",
      " 3   Drug           362806 non-null  object\n",
      " 4   DrugId         362806 non-null  int64 \n",
      " 5   EaseofUse      362806 non-null  int64 \n",
      " 6   Effectiveness  362806 non-null  int64 \n",
      " 7   Reviews        362769 non-null  object\n",
      " 8   Satisfaction   362806 non-null  int64 \n",
      " 9   Sex            362806 non-null  object\n",
      " 10  Sides          362806 non-null  object\n",
      " 11  UsefulCount    362806 non-null  int64 \n",
      "dtypes: int64(5), object(7)\n",
      "memory usage: 33.2+ MB\n"
     ]
    }
   ],
   "source": [
    "data.info()"
   ]
  },
  {
   "cell_type": "code",
   "execution_count": 4,
   "id": "2c917494",
   "metadata": {},
   "outputs": [
    {
     "data": {
      "text/plain": [
       "Index(['Age', 'Condition', 'Date', 'Drug', 'DrugId', 'EaseofUse',\n",
       "       'Effectiveness', 'Reviews', 'Satisfaction', 'Sex', 'Sides',\n",
       "       'UsefulCount'],\n",
       "      dtype='object')"
      ]
     },
     "execution_count": 4,
     "metadata": {},
     "output_type": "execute_result"
    }
   ],
   "source": [
    "data.columns"
   ]
  },
  {
   "cell_type": "code",
   "execution_count": 5,
   "id": "d005ed91",
   "metadata": {},
   "outputs": [
    {
     "data": {
      "text/html": [
       "<div>\n",
       "<style scoped>\n",
       "    .dataframe tbody tr th:only-of-type {\n",
       "        vertical-align: middle;\n",
       "    }\n",
       "\n",
       "    .dataframe tbody tr th {\n",
       "        vertical-align: top;\n",
       "    }\n",
       "\n",
       "    .dataframe thead th {\n",
       "        text-align: right;\n",
       "    }\n",
       "</style>\n",
       "<table border=\"1\" class=\"dataframe\">\n",
       "  <thead>\n",
       "    <tr style=\"text-align: right;\">\n",
       "      <th></th>\n",
       "      <th>DrugId</th>\n",
       "      <th>EaseofUse</th>\n",
       "      <th>Effectiveness</th>\n",
       "      <th>Satisfaction</th>\n",
       "      <th>UsefulCount</th>\n",
       "    </tr>\n",
       "  </thead>\n",
       "  <tbody>\n",
       "    <tr>\n",
       "      <th>count</th>\n",
       "      <td>362806.000000</td>\n",
       "      <td>362806.000000</td>\n",
       "      <td>362806.000000</td>\n",
       "      <td>362806.000000</td>\n",
       "      <td>362806.000000</td>\n",
       "    </tr>\n",
       "    <tr>\n",
       "      <th>mean</th>\n",
       "      <td>36879.370774</td>\n",
       "      <td>4.019829</td>\n",
       "      <td>3.532061</td>\n",
       "      <td>3.135408</td>\n",
       "      <td>6.744916</td>\n",
       "    </tr>\n",
       "    <tr>\n",
       "      <th>std</th>\n",
       "      <td>52624.412971</td>\n",
       "      <td>1.317711</td>\n",
       "      <td>1.455961</td>\n",
       "      <td>1.611106</td>\n",
       "      <td>9.324240</td>\n",
       "    </tr>\n",
       "    <tr>\n",
       "      <th>min</th>\n",
       "      <td>1.000000</td>\n",
       "      <td>1.000000</td>\n",
       "      <td>1.000000</td>\n",
       "      <td>1.000000</td>\n",
       "      <td>0.000000</td>\n",
       "    </tr>\n",
       "    <tr>\n",
       "      <th>25%</th>\n",
       "      <td>4896.000000</td>\n",
       "      <td>3.000000</td>\n",
       "      <td>3.000000</td>\n",
       "      <td>1.000000</td>\n",
       "      <td>1.000000</td>\n",
       "    </tr>\n",
       "    <tr>\n",
       "      <th>50%</th>\n",
       "      <td>9548.000000</td>\n",
       "      <td>5.000000</td>\n",
       "      <td>4.000000</td>\n",
       "      <td>3.000000</td>\n",
       "      <td>4.000000</td>\n",
       "    </tr>\n",
       "    <tr>\n",
       "      <th>75%</th>\n",
       "      <td>63522.000000</td>\n",
       "      <td>5.000000</td>\n",
       "      <td>5.000000</td>\n",
       "      <td>5.000000</td>\n",
       "      <td>9.000000</td>\n",
       "    </tr>\n",
       "    <tr>\n",
       "      <th>max</th>\n",
       "      <td>178546.000000</td>\n",
       "      <td>10.000000</td>\n",
       "      <td>10.000000</td>\n",
       "      <td>10.000000</td>\n",
       "      <td>255.000000</td>\n",
       "    </tr>\n",
       "  </tbody>\n",
       "</table>\n",
       "</div>"
      ],
      "text/plain": [
       "              DrugId      EaseofUse  Effectiveness   Satisfaction  \\\n",
       "count  362806.000000  362806.000000  362806.000000  362806.000000   \n",
       "mean    36879.370774       4.019829       3.532061       3.135408   \n",
       "std     52624.412971       1.317711       1.455961       1.611106   \n",
       "min         1.000000       1.000000       1.000000       1.000000   \n",
       "25%      4896.000000       3.000000       3.000000       1.000000   \n",
       "50%      9548.000000       5.000000       4.000000       3.000000   \n",
       "75%     63522.000000       5.000000       5.000000       5.000000   \n",
       "max    178546.000000      10.000000      10.000000      10.000000   \n",
       "\n",
       "         UsefulCount  \n",
       "count  362806.000000  \n",
       "mean        6.744916  \n",
       "std         9.324240  \n",
       "min         0.000000  \n",
       "25%         1.000000  \n",
       "50%         4.000000  \n",
       "75%         9.000000  \n",
       "max       255.000000  "
      ]
     },
     "execution_count": 5,
     "metadata": {},
     "output_type": "execute_result"
    }
   ],
   "source": [
    "data.describe()"
   ]
  },
  {
   "cell_type": "markdown",
   "id": "7f894e54",
   "metadata": {},
   "source": [
    "# Name and race column addition"
   ]
  },
  {
   "cell_type": "code",
   "execution_count": 6,
   "id": "2267436b",
   "metadata": {},
   "outputs": [
    {
     "name": "stdout",
     "output_type": "stream",
     "text": [
      "Requirement already satisfied: mimesis in c:\\users\\dell\\anaconda3\\lib\\site-packages (11.1.0)\n",
      "Note: you may need to restart the kernel to use updated packages.\n"
     ]
    }
   ],
   "source": [
    "pip install mimesis"
   ]
  },
  {
   "cell_type": "code",
   "execution_count": 7,
   "id": "f6670a48",
   "metadata": {},
   "outputs": [
    {
     "data": {
      "text/html": [
       "<div>\n",
       "<style scoped>\n",
       "    .dataframe tbody tr th:only-of-type {\n",
       "        vertical-align: middle;\n",
       "    }\n",
       "\n",
       "    .dataframe tbody tr th {\n",
       "        vertical-align: top;\n",
       "    }\n",
       "\n",
       "    .dataframe thead th {\n",
       "        text-align: right;\n",
       "    }\n",
       "</style>\n",
       "<table border=\"1\" class=\"dataframe\">\n",
       "  <thead>\n",
       "    <tr style=\"text-align: right;\">\n",
       "      <th></th>\n",
       "      <th>Name</th>\n",
       "    </tr>\n",
       "  </thead>\n",
       "  <tbody>\n",
       "    <tr>\n",
       "      <th>0</th>\n",
       "      <td>Sheldon</td>\n",
       "    </tr>\n",
       "    <tr>\n",
       "      <th>1</th>\n",
       "      <td>Emery</td>\n",
       "    </tr>\n",
       "    <tr>\n",
       "      <th>2</th>\n",
       "      <td>Porfirio</td>\n",
       "    </tr>\n",
       "    <tr>\n",
       "      <th>3</th>\n",
       "      <td>Edra</td>\n",
       "    </tr>\n",
       "    <tr>\n",
       "      <th>4</th>\n",
       "      <td>Alfonso</td>\n",
       "    </tr>\n",
       "  </tbody>\n",
       "</table>\n",
       "</div>"
      ],
      "text/plain": [
       "       Name\n",
       "0   Sheldon\n",
       "1     Emery\n",
       "2  Porfirio\n",
       "3      Edra\n",
       "4   Alfonso"
      ]
     },
     "execution_count": 7,
     "metadata": {},
     "output_type": "execute_result"
    }
   ],
   "source": [
    "from mimesis import Person\n",
    "person = Person('en')\n",
    "\n",
    "# function to create names to exact rows\n",
    "def fake_names(n):\n",
    "   name = []\n",
    "   for _ in range(0, n):\n",
    "        name.append(person.name())\n",
    "   return name\n",
    "\n",
    "names = fake_names(362806)\n",
    "\n",
    "data_name = pd.DataFrame(list(zip(names)),columns = ['Name'])\n",
    "\n",
    "data_name.head()"
   ]
  },
  {
   "cell_type": "code",
   "execution_count": 8,
   "id": "5ceb428c",
   "metadata": {},
   "outputs": [
    {
     "data": {
      "text/html": [
       "<div>\n",
       "<style scoped>\n",
       "    .dataframe tbody tr th:only-of-type {\n",
       "        vertical-align: middle;\n",
       "    }\n",
       "\n",
       "    .dataframe tbody tr th {\n",
       "        vertical-align: top;\n",
       "    }\n",
       "\n",
       "    .dataframe thead th {\n",
       "        text-align: right;\n",
       "    }\n",
       "</style>\n",
       "<table border=\"1\" class=\"dataframe\">\n",
       "  <thead>\n",
       "    <tr style=\"text-align: right;\">\n",
       "      <th></th>\n",
       "      <th>Race</th>\n",
       "    </tr>\n",
       "  </thead>\n",
       "  <tbody>\n",
       "    <tr>\n",
       "      <th>0</th>\n",
       "      <td>White</td>\n",
       "    </tr>\n",
       "    <tr>\n",
       "      <th>1</th>\n",
       "      <td>White</td>\n",
       "    </tr>\n",
       "    <tr>\n",
       "      <th>2</th>\n",
       "      <td>Asian</td>\n",
       "    </tr>\n",
       "    <tr>\n",
       "      <th>3</th>\n",
       "      <td>Hispanic</td>\n",
       "    </tr>\n",
       "    <tr>\n",
       "      <th>4</th>\n",
       "      <td>Black</td>\n",
       "    </tr>\n",
       "  </tbody>\n",
       "</table>\n",
       "</div>"
      ],
      "text/plain": [
       "       Race\n",
       "0     White\n",
       "1     White\n",
       "2     Asian\n",
       "3  Hispanic\n",
       "4     Black"
      ]
     },
     "execution_count": 8,
     "metadata": {},
     "output_type": "execute_result"
    }
   ],
   "source": [
    "import random\n",
    "\n",
    "options = [(\"White\", 0.32), (\"Hispanic\", 0.28), (\"Black\", 0.22), (\"Asian\", 0.18)]\n",
    "words = []\n",
    "\n",
    "for i in range(362806):\n",
    "    word = random.choices([o[0] for o in options], [o[1] for o in options])[0]\n",
    "    words.append(word)\n",
    "\n",
    "data_race=pd.DataFrame(words, columns = ['Race'])\n",
    "\n",
    "data_race.head()"
   ]
  },
  {
   "cell_type": "code",
   "execution_count": 9,
   "id": "73ecfd79",
   "metadata": {},
   "outputs": [
    {
     "data": {
      "text/html": [
       "<div>\n",
       "<style scoped>\n",
       "    .dataframe tbody tr th:only-of-type {\n",
       "        vertical-align: middle;\n",
       "    }\n",
       "\n",
       "    .dataframe tbody tr th {\n",
       "        vertical-align: top;\n",
       "    }\n",
       "\n",
       "    .dataframe thead th {\n",
       "        text-align: right;\n",
       "    }\n",
       "</style>\n",
       "<table border=\"1\" class=\"dataframe\">\n",
       "  <thead>\n",
       "    <tr style=\"text-align: right;\">\n",
       "      <th></th>\n",
       "      <th>Name</th>\n",
       "      <th>Race</th>\n",
       "      <th>Age</th>\n",
       "      <th>Condition</th>\n",
       "      <th>Date</th>\n",
       "      <th>Drug</th>\n",
       "      <th>DrugId</th>\n",
       "      <th>EaseofUse</th>\n",
       "      <th>Effectiveness</th>\n",
       "      <th>Reviews</th>\n",
       "      <th>Satisfaction</th>\n",
       "      <th>Sex</th>\n",
       "      <th>Sides</th>\n",
       "      <th>UsefulCount</th>\n",
       "    </tr>\n",
       "  </thead>\n",
       "  <tbody>\n",
       "    <tr>\n",
       "      <th>0</th>\n",
       "      <td>Sheldon</td>\n",
       "      <td>White</td>\n",
       "      <td>75 or over</td>\n",
       "      <td>Stuffy Nose</td>\n",
       "      <td>9/21/2014</td>\n",
       "      <td>25dph-7.5peh</td>\n",
       "      <td>146724</td>\n",
       "      <td>5</td>\n",
       "      <td>5</td>\n",
       "      <td>I'm a retired physician and of all the meds I ...</td>\n",
       "      <td>5</td>\n",
       "      <td>Male</td>\n",
       "      <td>Drowsiness,  dizziness ,  dry mouth /nose/thro...</td>\n",
       "      <td>0</td>\n",
       "    </tr>\n",
       "    <tr>\n",
       "      <th>1</th>\n",
       "      <td>Emery</td>\n",
       "      <td>White</td>\n",
       "      <td>25-34</td>\n",
       "      <td>Cold Symptoms</td>\n",
       "      <td>1/13/2011</td>\n",
       "      <td>25dph-7.5peh</td>\n",
       "      <td>146724</td>\n",
       "      <td>5</td>\n",
       "      <td>5</td>\n",
       "      <td>cleared me right up even with my throat hurtin...</td>\n",
       "      <td>5</td>\n",
       "      <td>Female</td>\n",
       "      <td>Drowsiness,  dizziness ,  dry mouth /nose/thro...</td>\n",
       "      <td>1</td>\n",
       "    </tr>\n",
       "    <tr>\n",
       "      <th>2</th>\n",
       "      <td>Porfirio</td>\n",
       "      <td>Asian</td>\n",
       "      <td>65-74</td>\n",
       "      <td>Other</td>\n",
       "      <td>7/16/2012</td>\n",
       "      <td>warfarin (bulk) 100 % powder</td>\n",
       "      <td>144731</td>\n",
       "      <td>2</td>\n",
       "      <td>3</td>\n",
       "      <td>why did my PTINR go from a normal of 2.5 to ov...</td>\n",
       "      <td>3</td>\n",
       "      <td>Female</td>\n",
       "      <td></td>\n",
       "      <td>0</td>\n",
       "    </tr>\n",
       "    <tr>\n",
       "      <th>3</th>\n",
       "      <td>Edra</td>\n",
       "      <td>Hispanic</td>\n",
       "      <td>75 or over</td>\n",
       "      <td>Other</td>\n",
       "      <td>9/23/2010</td>\n",
       "      <td>warfarin (bulk) 100 % powder</td>\n",
       "      <td>144731</td>\n",
       "      <td>2</td>\n",
       "      <td>2</td>\n",
       "      <td>FALLING AND DON'T REALISE IT</td>\n",
       "      <td>1</td>\n",
       "      <td>Female</td>\n",
       "      <td></td>\n",
       "      <td>0</td>\n",
       "    </tr>\n",
       "    <tr>\n",
       "      <th>4</th>\n",
       "      <td>Alfonso</td>\n",
       "      <td>Black</td>\n",
       "      <td>35-44</td>\n",
       "      <td>Other</td>\n",
       "      <td>1/6/2009</td>\n",
       "      <td>warfarin (bulk) 100 % powder</td>\n",
       "      <td>144731</td>\n",
       "      <td>1</td>\n",
       "      <td>1</td>\n",
       "      <td>My grandfather was prescribed this medication ...</td>\n",
       "      <td>1</td>\n",
       "      <td>Male</td>\n",
       "      <td></td>\n",
       "      <td>1</td>\n",
       "    </tr>\n",
       "  </tbody>\n",
       "</table>\n",
       "</div>"
      ],
      "text/plain": [
       "       Name      Race         Age      Condition       Date  \\\n",
       "0   Sheldon     White  75 or over    Stuffy Nose  9/21/2014   \n",
       "1     Emery     White       25-34  Cold Symptoms  1/13/2011   \n",
       "2  Porfirio     Asian       65-74          Other  7/16/2012   \n",
       "3      Edra  Hispanic  75 or over          Other  9/23/2010   \n",
       "4   Alfonso     Black       35-44          Other   1/6/2009   \n",
       "\n",
       "                           Drug  DrugId  EaseofUse  Effectiveness  \\\n",
       "0                  25dph-7.5peh  146724          5              5   \n",
       "1                  25dph-7.5peh  146724          5              5   \n",
       "2  warfarin (bulk) 100 % powder  144731          2              3   \n",
       "3  warfarin (bulk) 100 % powder  144731          2              2   \n",
       "4  warfarin (bulk) 100 % powder  144731          1              1   \n",
       "\n",
       "                                             Reviews  Satisfaction     Sex  \\\n",
       "0  I'm a retired physician and of all the meds I ...             5    Male   \n",
       "1  cleared me right up even with my throat hurtin...             5  Female   \n",
       "2  why did my PTINR go from a normal of 2.5 to ov...             3  Female   \n",
       "3                       FALLING AND DON'T REALISE IT             1  Female   \n",
       "4  My grandfather was prescribed this medication ...             1    Male   \n",
       "\n",
       "                                               Sides  UsefulCount  \n",
       "0  Drowsiness,  dizziness ,  dry mouth /nose/thro...            0  \n",
       "1  Drowsiness,  dizziness ,  dry mouth /nose/thro...            1  \n",
       "2                                                               0  \n",
       "3                                                               0  \n",
       "4                                                               1  "
      ]
     },
     "execution_count": 9,
     "metadata": {},
     "output_type": "execute_result"
    }
   ],
   "source": [
    "data1 = pd.concat([data_name, data_race, data], axis=1).reindex(data.index)\n",
    "data1.head()"
   ]
  },
  {
   "cell_type": "markdown",
   "id": "79c51c31",
   "metadata": {},
   "source": [
    "Dataset is ready for EDA and Preprocessing"
   ]
  },
  {
   "cell_type": "markdown",
   "id": "e349e5f6",
   "metadata": {},
   "source": [
    "A drug named Lisinopril solution with DrugId 6873 is selected in building a classification model to determine side effects"
   ]
  },
  {
   "cell_type": "code",
   "execution_count": 10,
   "id": "9666014a",
   "metadata": {},
   "outputs": [],
   "source": [
    "data2 = data1[data1.DrugId == 6873]"
   ]
  },
  {
   "cell_type": "markdown",
   "id": "0ecc6a07",
   "metadata": {},
   "source": [
    "# Missing Value Handling"
   ]
  },
  {
   "cell_type": "code",
   "execution_count": 11,
   "id": "a7658170",
   "metadata": {},
   "outputs": [
    {
     "data": {
      "text/plain": [
       "Name             0\n",
       "Race             0\n",
       "Age              0\n",
       "Condition        0\n",
       "Date             0\n",
       "Drug             0\n",
       "DrugId           0\n",
       "EaseofUse        0\n",
       "Effectiveness    0\n",
       "Reviews          4\n",
       "Satisfaction     0\n",
       "Sex              0\n",
       "Sides            0\n",
       "UsefulCount      0\n",
       "dtype: int64"
      ]
     },
     "execution_count": 11,
     "metadata": {},
     "output_type": "execute_result"
    }
   ],
   "source": [
    "data2.isna().sum()"
   ]
  },
  {
   "cell_type": "code",
   "execution_count": 12,
   "id": "b1b4841f",
   "metadata": {},
   "outputs": [
    {
     "name": "stderr",
     "output_type": "stream",
     "text": [
      "C:\\Users\\DELL\\AppData\\Local\\Temp\\ipykernel_12780\\860313554.py:2: SettingWithCopyWarning: \n",
      "A value is trying to be set on a copy of a slice from a DataFrame\n",
      "\n",
      "See the caveats in the documentation: https://pandas.pydata.org/pandas-docs/stable/user_guide/indexing.html#returning-a-view-versus-a-copy\n",
      "  data2.dropna(axis = 0, inplace = True)\n"
     ]
    },
    {
     "data": {
      "text/plain": [
       "Name             0\n",
       "Race             0\n",
       "Age              0\n",
       "Condition        0\n",
       "Date             0\n",
       "Drug             0\n",
       "DrugId           0\n",
       "EaseofUse        0\n",
       "Effectiveness    0\n",
       "Reviews          0\n",
       "Satisfaction     0\n",
       "Sex              0\n",
       "Sides            0\n",
       "UsefulCount      0\n",
       "dtype: int64"
      ]
     },
     "execution_count": 12,
     "metadata": {},
     "output_type": "execute_result"
    }
   ],
   "source": [
    "# Nan rows were dropped\n",
    "data2.dropna(axis = 0, inplace = True)\n",
    "data2.isna().sum()"
   ]
  },
  {
   "cell_type": "code",
   "execution_count": 13,
   "id": "b03054c4",
   "metadata": {},
   "outputs": [
    {
     "name": "stderr",
     "output_type": "stream",
     "text": [
      "C:\\Users\\DELL\\AppData\\Local\\Temp\\ipykernel_12780\\240256320.py:3: SettingWithCopyWarning: \n",
      "A value is trying to be set on a copy of a slice from a DataFrame.\n",
      "Try using .loc[row_indexer,col_indexer] = value instead\n",
      "\n",
      "See the caveats in the documentation: https://pandas.pydata.org/pandas-docs/stable/user_guide/indexing.html#returning-a-view-versus-a-copy\n",
      "  data2[i]=np.where(data2[i]==\" \",np.NAN,data2[i])\n"
     ]
    },
    {
     "data": {
      "text/plain": [
       "Name                0\n",
       "Race                0\n",
       "Age               270\n",
       "Condition           0\n",
       "Date                0\n",
       "Drug                0\n",
       "DrugId              0\n",
       "EaseofUse           0\n",
       "Effectiveness       0\n",
       "Reviews          1562\n",
       "Satisfaction        0\n",
       "Sex               494\n",
       "Sides               0\n",
       "UsefulCount         0\n",
       "dtype: int64"
      ]
     },
     "execution_count": 13,
     "metadata": {},
     "output_type": "execute_result"
    }
   ],
   "source": [
    "# Handling instances with whitespaces\n",
    "for i in data2:\n",
    "    data2[i]=np.where(data2[i]==\" \",np.NAN,data2[i])\n",
    "    \n",
    "data2.isna().sum()"
   ]
  },
  {
   "cell_type": "code",
   "execution_count": 14,
   "id": "a4be6e0a",
   "metadata": {},
   "outputs": [
    {
     "name": "stderr",
     "output_type": "stream",
     "text": [
      "C:\\Users\\DELL\\AppData\\Local\\Temp\\ipykernel_12780\\3809571024.py:1: SettingWithCopyWarning: \n",
      "A value is trying to be set on a copy of a slice from a DataFrame\n",
      "\n",
      "See the caveats in the documentation: https://pandas.pydata.org/pandas-docs/stable/user_guide/indexing.html#returning-a-view-versus-a-copy\n",
      "  data2.dropna(axis=0, inplace = True)\n"
     ]
    },
    {
     "data": {
      "text/plain": [
       "Name             0\n",
       "Race             0\n",
       "Age              0\n",
       "Condition        0\n",
       "Date             0\n",
       "Drug             0\n",
       "DrugId           0\n",
       "EaseofUse        0\n",
       "Effectiveness    0\n",
       "Reviews          0\n",
       "Satisfaction     0\n",
       "Sex              0\n",
       "Sides            0\n",
       "UsefulCount      0\n",
       "dtype: int64"
      ]
     },
     "execution_count": 14,
     "metadata": {},
     "output_type": "execute_result"
    }
   ],
   "source": [
    "data2.dropna(axis=0, inplace = True)\n",
    "data2.isna().sum()"
   ]
  },
  {
   "cell_type": "code",
   "execution_count": 15,
   "id": "14d40415",
   "metadata": {},
   "outputs": [
    {
     "name": "stderr",
     "output_type": "stream",
     "text": [
      "C:\\Users\\DELL\\AppData\\Local\\Temp\\ipykernel_12780\\3720796167.py:3: SettingWithCopyWarning: \n",
      "A value is trying to be set on a copy of a slice from a DataFrame.\n",
      "Try using .loc[row_indexer,col_indexer] = value instead\n",
      "\n",
      "See the caveats in the documentation: https://pandas.pydata.org/pandas-docs/stable/user_guide/indexing.html#returning-a-view-versus-a-copy\n",
      "  data2[i]=np.where(data2[i]==\"  \",np.NAN,data2[i])\n"
     ]
    },
    {
     "data": {
      "text/plain": [
       "Name             0\n",
       "Race             0\n",
       "Age              0\n",
       "Condition        0\n",
       "Date             0\n",
       "Drug             0\n",
       "DrugId           0\n",
       "EaseofUse        0\n",
       "Effectiveness    0\n",
       "Reviews          0\n",
       "Satisfaction     0\n",
       "Sex              0\n",
       "Sides            0\n",
       "UsefulCount      0\n",
       "dtype: int64"
      ]
     },
     "execution_count": 15,
     "metadata": {},
     "output_type": "execute_result"
    }
   ],
   "source": [
    "# Handling instances with double whitespaces\n",
    "for i in data2:\n",
    "    data2[i]=np.where(data2[i]==\"  \",np.NAN,data2[i])\n",
    "    \n",
    "data2.isna().sum()"
   ]
  },
  {
   "cell_type": "markdown",
   "id": "dbe50d6f",
   "metadata": {},
   "source": [
    "# Checking each column values"
   ]
  },
  {
   "cell_type": "markdown",
   "id": "887e1763",
   "metadata": {},
   "source": [
    "Sex"
   ]
  },
  {
   "cell_type": "code",
   "execution_count": 16,
   "id": "22b97eca",
   "metadata": {},
   "outputs": [
    {
     "data": {
      "text/plain": [
       "Female    4060\n",
       "Male      2466\n",
       "Name: Sex, dtype: int64"
      ]
     },
     "execution_count": 16,
     "metadata": {},
     "output_type": "execute_result"
    }
   ],
   "source": [
    "data2.Sex.value_counts()"
   ]
  },
  {
   "cell_type": "markdown",
   "id": "88ba631e",
   "metadata": {},
   "source": [
    "Age"
   ]
  },
  {
   "cell_type": "code",
   "execution_count": 17,
   "id": "b9342fd2",
   "metadata": {},
   "outputs": [
    {
     "data": {
      "text/plain": [
       "55-64         1912\n",
       "45-54         1760\n",
       "65-74         1148\n",
       "35-44          858\n",
       "75 or over     490\n",
       "25-34          306\n",
       "19-24           44\n",
       "13-18            6\n",
       "0-2              2\n",
       "Name: Age, dtype: int64"
      ]
     },
     "execution_count": 17,
     "metadata": {},
     "output_type": "execute_result"
    }
   ],
   "source": [
    "data2.Age.value_counts()"
   ]
  },
  {
   "cell_type": "markdown",
   "id": "fed90406",
   "metadata": {},
   "source": [
    "Date"
   ]
  },
  {
   "cell_type": "code",
   "execution_count": 18,
   "id": "198bb754",
   "metadata": {},
   "outputs": [
    {
     "name": "stderr",
     "output_type": "stream",
     "text": [
      "C:\\Users\\DELL\\AppData\\Local\\Temp\\ipykernel_12780\\594376795.py:1: SettingWithCopyWarning: \n",
      "A value is trying to be set on a copy of a slice from a DataFrame.\n",
      "Try using .loc[row_indexer,col_indexer] = value instead\n",
      "\n",
      "See the caveats in the documentation: https://pandas.pydata.org/pandas-docs/stable/user_guide/indexing.html#returning-a-view-versus-a-copy\n",
      "  data2['Year'] = pd.to_datetime(data2['Date'], errors='coerce').dt.year\n",
      "C:\\Users\\DELL\\AppData\\Local\\Temp\\ipykernel_12780\\594376795.py:2: SettingWithCopyWarning: \n",
      "A value is trying to be set on a copy of a slice from a DataFrame.\n",
      "Try using .loc[row_indexer,col_indexer] = value instead\n",
      "\n",
      "See the caveats in the documentation: https://pandas.pydata.org/pandas-docs/stable/user_guide/indexing.html#returning-a-view-versus-a-copy\n",
      "  data2['Month'] = pd.to_datetime(data2['Date'], errors='coerce').dt.month\n",
      "C:\\Users\\DELL\\AppData\\Local\\Temp\\ipykernel_12780\\594376795.py:3: SettingWithCopyWarning: \n",
      "A value is trying to be set on a copy of a slice from a DataFrame.\n",
      "Try using .loc[row_indexer,col_indexer] = value instead\n",
      "\n",
      "See the caveats in the documentation: https://pandas.pydata.org/pandas-docs/stable/user_guide/indexing.html#returning-a-view-versus-a-copy\n",
      "  data2['day_of_week'] = pd.to_datetime(data2['Date'], errors='coerce').dt.day_name()\n"
     ]
    }
   ],
   "source": [
    "data2['Year'] = pd.to_datetime(data2['Date'], errors='coerce').dt.year\n",
    "data2['Month'] = pd.to_datetime(data2['Date'], errors='coerce').dt.month\n",
    "data2['day_of_week'] = pd.to_datetime(data2['Date'], errors='coerce').dt.day_name()"
   ]
  },
  {
   "cell_type": "code",
   "execution_count": 19,
   "id": "b075509a",
   "metadata": {},
   "outputs": [
    {
     "data": {
      "text/html": [
       "<div>\n",
       "<style scoped>\n",
       "    .dataframe tbody tr th:only-of-type {\n",
       "        vertical-align: middle;\n",
       "    }\n",
       "\n",
       "    .dataframe tbody tr th {\n",
       "        vertical-align: top;\n",
       "    }\n",
       "\n",
       "    .dataframe thead th {\n",
       "        text-align: right;\n",
       "    }\n",
       "</style>\n",
       "<table border=\"1\" class=\"dataframe\">\n",
       "  <thead>\n",
       "    <tr style=\"text-align: right;\">\n",
       "      <th></th>\n",
       "      <th>Name</th>\n",
       "      <th>Race</th>\n",
       "      <th>Age</th>\n",
       "      <th>Condition</th>\n",
       "      <th>Date</th>\n",
       "      <th>Drug</th>\n",
       "      <th>DrugId</th>\n",
       "      <th>EaseofUse</th>\n",
       "      <th>Effectiveness</th>\n",
       "      <th>Reviews</th>\n",
       "      <th>Satisfaction</th>\n",
       "      <th>Sex</th>\n",
       "      <th>Sides</th>\n",
       "      <th>UsefulCount</th>\n",
       "      <th>Year</th>\n",
       "      <th>Month</th>\n",
       "      <th>day_of_week</th>\n",
       "    </tr>\n",
       "  </thead>\n",
       "  <tbody>\n",
       "    <tr>\n",
       "      <th>9203</th>\n",
       "      <td>Eleonor</td>\n",
       "      <td>Black</td>\n",
       "      <td>75 or over</td>\n",
       "      <td>High Blood Pressure</td>\n",
       "      <td>2/8/2020</td>\n",
       "      <td>lisinopril solution</td>\n",
       "      <td>6873.0</td>\n",
       "      <td>5.0</td>\n",
       "      <td>4.0</td>\n",
       "      <td>I have developed a very itch rash on my body f...</td>\n",
       "      <td>4.0</td>\n",
       "      <td>Female</td>\n",
       "      <td>Dizziness ,  lightheadedness , tiredness, or  ...</td>\n",
       "      <td>3.0</td>\n",
       "      <td>2020</td>\n",
       "      <td>2</td>\n",
       "      <td>Saturday</td>\n",
       "    </tr>\n",
       "    <tr>\n",
       "      <th>9209</th>\n",
       "      <td>Larraine</td>\n",
       "      <td>White</td>\n",
       "      <td>55-64</td>\n",
       "      <td>High Blood Pressure</td>\n",
       "      <td>1/14/2020</td>\n",
       "      <td>lisinopril solution</td>\n",
       "      <td>6873.0</td>\n",
       "      <td>4.0</td>\n",
       "      <td>5.0</td>\n",
       "      <td>tried alternative medicine Beet root, hibiscus...</td>\n",
       "      <td>4.0</td>\n",
       "      <td>Male</td>\n",
       "      <td>Dizziness ,  lightheadedness , tiredness, or  ...</td>\n",
       "      <td>3.0</td>\n",
       "      <td>2020</td>\n",
       "      <td>1</td>\n",
       "      <td>Tuesday</td>\n",
       "    </tr>\n",
       "    <tr>\n",
       "      <th>9215</th>\n",
       "      <td>Karl</td>\n",
       "      <td>Asian</td>\n",
       "      <td>65-74</td>\n",
       "      <td>High Blood Pressure</td>\n",
       "      <td>10/17/2019</td>\n",
       "      <td>lisinopril solution</td>\n",
       "      <td>6873.0</td>\n",
       "      <td>5.0</td>\n",
       "      <td>5.0</td>\n",
       "      <td>Have been taking 10 mg doses per day for over ...</td>\n",
       "      <td>5.0</td>\n",
       "      <td>Male</td>\n",
       "      <td>Dizziness ,  lightheadedness , tiredness, or  ...</td>\n",
       "      <td>6.0</td>\n",
       "      <td>2019</td>\n",
       "      <td>10</td>\n",
       "      <td>Thursday</td>\n",
       "    </tr>\n",
       "    <tr>\n",
       "      <th>9221</th>\n",
       "      <td>Quentin</td>\n",
       "      <td>White</td>\n",
       "      <td>55-64</td>\n",
       "      <td>High Blood Pressure</td>\n",
       "      <td>10/13/2019</td>\n",
       "      <td>lisinopril solution</td>\n",
       "      <td>6873.0</td>\n",
       "      <td>2.0</td>\n",
       "      <td>4.0</td>\n",
       "      <td>I don't like that I'm taking this and not know...</td>\n",
       "      <td>2.0</td>\n",
       "      <td>Male</td>\n",
       "      <td>Dizziness ,  lightheadedness , tiredness, or  ...</td>\n",
       "      <td>12.0</td>\n",
       "      <td>2019</td>\n",
       "      <td>10</td>\n",
       "      <td>Sunday</td>\n",
       "    </tr>\n",
       "    <tr>\n",
       "      <th>9227</th>\n",
       "      <td>Zachery</td>\n",
       "      <td>Asian</td>\n",
       "      <td>55-64</td>\n",
       "      <td>High Blood Pressure</td>\n",
       "      <td>8/16/2019</td>\n",
       "      <td>lisinopril solution</td>\n",
       "      <td>6873.0</td>\n",
       "      <td>3.0</td>\n",
       "      <td>1.0</td>\n",
       "      <td>Was on this medicine for about 2 months and ha...</td>\n",
       "      <td>1.0</td>\n",
       "      <td>Female</td>\n",
       "      <td>Dizziness ,  lightheadedness , tiredness, or  ...</td>\n",
       "      <td>22.0</td>\n",
       "      <td>2019</td>\n",
       "      <td>8</td>\n",
       "      <td>Friday</td>\n",
       "    </tr>\n",
       "  </tbody>\n",
       "</table>\n",
       "</div>"
      ],
      "text/plain": [
       "          Name   Race         Age            Condition        Date  \\\n",
       "9203   Eleonor  Black  75 or over  High Blood Pressure    2/8/2020   \n",
       "9209  Larraine  White       55-64  High Blood Pressure   1/14/2020   \n",
       "9215      Karl  Asian       65-74  High Blood Pressure  10/17/2019   \n",
       "9221   Quentin  White       55-64  High Blood Pressure  10/13/2019   \n",
       "9227   Zachery  Asian       55-64  High Blood Pressure   8/16/2019   \n",
       "\n",
       "                     Drug  DrugId  EaseofUse  Effectiveness  \\\n",
       "9203  lisinopril solution  6873.0        5.0            4.0   \n",
       "9209  lisinopril solution  6873.0        4.0            5.0   \n",
       "9215  lisinopril solution  6873.0        5.0            5.0   \n",
       "9221  lisinopril solution  6873.0        2.0            4.0   \n",
       "9227  lisinopril solution  6873.0        3.0            1.0   \n",
       "\n",
       "                                                Reviews  Satisfaction     Sex  \\\n",
       "9203  I have developed a very itch rash on my body f...           4.0  Female   \n",
       "9209  tried alternative medicine Beet root, hibiscus...           4.0    Male   \n",
       "9215  Have been taking 10 mg doses per day for over ...           5.0    Male   \n",
       "9221  I don't like that I'm taking this and not know...           2.0    Male   \n",
       "9227  Was on this medicine for about 2 months and ha...           1.0  Female   \n",
       "\n",
       "                                                  Sides  UsefulCount  Year  \\\n",
       "9203  Dizziness ,  lightheadedness , tiredness, or  ...          3.0  2020   \n",
       "9209  Dizziness ,  lightheadedness , tiredness, or  ...          3.0  2020   \n",
       "9215  Dizziness ,  lightheadedness , tiredness, or  ...          6.0  2019   \n",
       "9221  Dizziness ,  lightheadedness , tiredness, or  ...         12.0  2019   \n",
       "9227  Dizziness ,  lightheadedness , tiredness, or  ...         22.0  2019   \n",
       "\n",
       "      Month day_of_week  \n",
       "9203      2    Saturday  \n",
       "9209      1     Tuesday  \n",
       "9215     10    Thursday  \n",
       "9221     10      Sunday  \n",
       "9227      8      Friday  "
      ]
     },
     "execution_count": 19,
     "metadata": {},
     "output_type": "execute_result"
    }
   ],
   "source": [
    "data2.head(5)"
   ]
  },
  {
   "cell_type": "markdown",
   "id": "a0bcc61a",
   "metadata": {},
   "source": [
    "Year, Month and Day of week column generated"
   ]
  },
  {
   "cell_type": "markdown",
   "id": "0f8b5387",
   "metadata": {},
   "source": [
    "# Useful Count"
   ]
  },
  {
   "cell_type": "code",
   "execution_count": 20,
   "id": "9a953682",
   "metadata": {},
   "outputs": [
    {
     "data": {
      "text/plain": [
       "5.09650737167029"
      ]
     },
     "execution_count": 20,
     "metadata": {},
     "output_type": "execute_result"
    },
    {
     "data": {
      "image/png": "[encoded data removed]",
      "text/plain": [
       "<Figure size 1000x600 with 2 Axes>"
      ]
     },
     "metadata": {},
     "output_type": "display_data"
    }
   ],
   "source": [
    "plt.figure(figsize=(10,6))\n",
    "\n",
    "plt.subplot(2,2,1)\n",
    "plt.boxplot(data2[\"UsefulCount\"])\n",
    "plt.title(\" Box Plot\")\n",
    "\n",
    "plt.subplot(2,2,2)\n",
    "plt.hist(data2[\"UsefulCount\"])\n",
    "plt.title(\" Histogram\")\n",
    "data2.UsefulCount.skew()"
   ]
  },
  {
   "cell_type": "code",
   "execution_count": 21,
   "id": "91d45f32",
   "metadata": {},
   "outputs": [],
   "source": [
    "from sklearn.preprocessing import PowerTransformer\n",
    "from sklearn.pipeline import Pipeline"
   ]
  },
  {
   "cell_type": "code",
   "execution_count": 22,
   "id": "4e422881",
   "metadata": {},
   "outputs": [
    {
     "name": "stderr",
     "output_type": "stream",
     "text": [
      "C:\\Users\\DELL\\AppData\\Local\\Temp\\ipykernel_12780\\1468842533.py:18: SettingWithCopyWarning: \n",
      "A value is trying to be set on a copy of a slice from a DataFrame.\n",
      "Try using .loc[row_indexer,col_indexer] = value instead\n",
      "\n",
      "See the caveats in the documentation: https://pandas.pydata.org/pandas-docs/stable/user_guide/indexing.html#returning-a-view-versus-a-copy\n",
      "  data2['UsefulCount_boxcox'] = data_Usefulcount1\n"
     ]
    },
    {
     "data": {
      "text/plain": [
       "0.13539917023288633"
      ]
     },
     "execution_count": 22,
     "metadata": {},
     "output_type": "execute_result"
    },
    {
     "data": {
      "image/png": "[encoded data removed]",
      "text/plain": [
       "<Figure size 1000x600 with 2 Axes>"
      ]
     },
     "metadata": {},
     "output_type": "display_data"
    }
   ],
   "source": [
    "data_Usefulcount = pd.DataFrame(data2['UsefulCount'])\n",
    "\n",
    "scaler = MinMaxScaler(feature_range=(1, 2))\n",
    "power = PowerTransformer(method='box-cox')\n",
    "pipeline = Pipeline(steps=[('s', scaler),('p', power)])\n",
    "data_Usefulcount1 = pipeline.fit_transform(data_Usefulcount)\n",
    "\n",
    "plt.figure(figsize=(10,6))\n",
    "\n",
    "plt.subplot(2,2,1)\n",
    "plt.boxplot(data_Usefulcount1)\n",
    "plt.title(\" Box Plot\")\n",
    "\n",
    "plt.subplot(2,2,2)\n",
    "plt.hist(data_Usefulcount1)\n",
    "plt.title(\" Histogram\")\n",
    "\n",
    "data2['UsefulCount_boxcox'] = data_Usefulcount1\n",
    "data2['UsefulCount_boxcox'].skew()"
   ]
  },
  {
   "cell_type": "markdown",
   "id": "1931670d",
   "metadata": {},
   "source": [
    "# EaseofUse"
   ]
  },
  {
   "cell_type": "code",
   "execution_count": 23,
   "id": "eec638ea",
   "metadata": {},
   "outputs": [
    {
     "data": {
      "text/plain": [
       "-1.0956719032464681"
      ]
     },
     "execution_count": 23,
     "metadata": {},
     "output_type": "execute_result"
    },
    {
     "data": {
      "image/png": "[encoded data removed]",
      "text/plain": [
       "<Figure size 1000x600 with 2 Axes>"
      ]
     },
     "metadata": {},
     "output_type": "display_data"
    }
   ],
   "source": [
    "plt.figure(figsize=(10,6))\n",
    "\n",
    "plt.subplot(2,2,1)\n",
    "plt.boxplot(data2[\"EaseofUse\"])\n",
    "plt.title(\" Box Plot\")\n",
    "\n",
    "plt.subplot(2,2,2)\n",
    "plt.hist(data2[\"EaseofUse\"])\n",
    "plt.title(\" Histogram\")\n",
    "data2.EaseofUse.skew()"
   ]
  },
  {
   "cell_type": "code",
   "execution_count": 24,
   "id": "5280b97f",
   "metadata": {},
   "outputs": [
    {
     "name": "stderr",
     "output_type": "stream",
     "text": [
      "C:\\Users\\DELL\\AppData\\Local\\Temp\\ipykernel_12780\\2512393956.py:18: SettingWithCopyWarning: \n",
      "A value is trying to be set on a copy of a slice from a DataFrame.\n",
      "Try using .loc[row_indexer,col_indexer] = value instead\n",
      "\n",
      "See the caveats in the documentation: https://pandas.pydata.org/pandas-docs/stable/user_guide/indexing.html#returning-a-view-versus-a-copy\n",
      "  data2['EaseofUse_boxcox'] = data_EaseofUse1\n"
     ]
    },
    {
     "data": {
      "text/plain": [
       "-0.4695297334699221"
      ]
     },
     "execution_count": 24,
     "metadata": {},
     "output_type": "execute_result"
    },
    {
     "data": {
      "image/png": "[encoded data removed]",
      "text/plain": [
       "<Figure size 1000x600 with 2 Axes>"
      ]
     },
     "metadata": {},
     "output_type": "display_data"
    }
   ],
   "source": [
    "scaler = MinMaxScaler(feature_range=(1, 2))\n",
    "power = PowerTransformer(method='box-cox')\n",
    "pipeline = Pipeline(steps=[('s', scaler),('p', power)])\n",
    "\n",
    "data_EaseofUse = pd.DataFrame(data2['EaseofUse'])\n",
    "data_EaseofUse1 = pipeline.fit_transform(data_EaseofUse)\n",
    "\n",
    "plt.figure(figsize=(10,6))\n",
    "\n",
    "plt.subplot(2,2,1)\n",
    "plt.boxplot(data_EaseofUse1)\n",
    "plt.title(\" Box Plot\")\n",
    "\n",
    "plt.subplot(2,2,2)\n",
    "plt.hist(data_EaseofUse1)\n",
    "plt.title(\" Histogram\")\n",
    "\n",
    "data2['EaseofUse_boxcox'] = data_EaseofUse1\n",
    "data2.EaseofUse_boxcox.skew()"
   ]
  },
  {
   "cell_type": "markdown",
   "id": "4005c279",
   "metadata": {},
   "source": [
    "# Satisfaction column"
   ]
  },
  {
   "cell_type": "code",
   "execution_count": 25,
   "id": "60f94657",
   "metadata": {},
   "outputs": [
    {
     "data": {
      "text/plain": [
       "0.46899147382396195"
      ]
     },
     "execution_count": 25,
     "metadata": {},
     "output_type": "execute_result"
    },
    {
     "data": {
      "image/png": "[encoded data removed]",
      "text/plain": [
       "<Figure size 1000x600 with 2 Axes>"
      ]
     },
     "metadata": {},
     "output_type": "display_data"
    }
   ],
   "source": [
    "plt.figure(figsize=(10,6))\n",
    "\n",
    "plt.subplot(2,2,1)\n",
    "plt.boxplot(data2[\"Satisfaction\"])\n",
    "plt.title(\" Box Plot\")\n",
    "\n",
    "plt.subplot(2,2,2)\n",
    "plt.hist(data2[\"Satisfaction\"])\n",
    "plt.title(\" Histogram\")\n",
    "data2.Satisfaction.skew()"
   ]
  },
  {
   "cell_type": "markdown",
   "id": "34e86e06",
   "metadata": {},
   "source": [
    "# Effectiveness"
   ]
  },
  {
   "cell_type": "code",
   "execution_count": 26,
   "id": "9f717a80",
   "metadata": {},
   "outputs": [
    {
     "data": {
      "text/plain": [
       "-0.35269982353771245"
      ]
     },
     "execution_count": 26,
     "metadata": {},
     "output_type": "execute_result"
    },
    {
     "data": {
      "image/png": "[encoded data removed]",
      "text/plain": [
       "<Figure size 1000x600 with 2 Axes>"
      ]
     },
     "metadata": {},
     "output_type": "display_data"
    }
   ],
   "source": [
    "plt.figure(figsize=(10,6))\n",
    "\n",
    "plt.subplot(2,2,1)\n",
    "plt.boxplot(data2[\"Effectiveness\"])\n",
    "plt.title(\" Box Plot\")\n",
    "\n",
    "plt.subplot(2,2,2)\n",
    "plt.hist(data2[\"Effectiveness\"])\n",
    "plt.title(\" Histogram\")\n",
    "data2.Effectiveness.skew()"
   ]
  },
  {
   "cell_type": "markdown",
   "id": "4e0758f4",
   "metadata": {},
   "source": [
    "After checking the skewness and outliers, Usefulcount, easeofuse, effectiveness and satisfaction column has been processed"
   ]
  },
  {
   "cell_type": "markdown",
   "id": "3f2f5679",
   "metadata": {},
   "source": [
    "# New Feature creation: Sideeffect"
   ]
  },
  {
   "cell_type": "code",
   "execution_count": 27,
   "id": "8f9ba7bc",
   "metadata": {},
   "outputs": [
    {
     "name": "stderr",
     "output_type": "stream",
     "text": [
      "C:\\Users\\DELL\\AppData\\Local\\Temp\\ipykernel_12780\\1386514440.py:2: SettingWithCopyWarning: \n",
      "A value is trying to be set on a copy of a slice from a DataFrame.\n",
      "Try using .loc[row_indexer,col_indexer] = value instead\n",
      "\n",
      "See the caveats in the documentation: https://pandas.pydata.org/pandas-docs/stable/user_guide/indexing.html#returning-a-view-versus-a-copy\n",
      "  data2['Sideeffect'] = data2['Satisfaction'].map(mapping)\n"
     ]
    }
   ],
   "source": [
    "mapping = {1: 5, 2: 4, 3: 3, 4: 2, 5: 1}\n",
    "data2['Sideeffect'] = data2['Satisfaction'].map(mapping)\n",
    "# data2.loc[data2['Satisfaction'] == 1, 'Sideeffect'] = data2.loc[data2['Satisfaction'] == 1,5, 'Sideeffect']"
   ]
  },
  {
   "cell_type": "code",
   "execution_count": 28,
   "id": "c4fe9df2",
   "metadata": {},
   "outputs": [
    {
     "data": {
      "text/plain": [
       "Index(['Name', 'Race', 'Age', 'Condition', 'Date', 'Drug', 'DrugId',\n",
       "       'EaseofUse', 'Effectiveness', 'Reviews', 'Satisfaction', 'Sex', 'Sides',\n",
       "       'UsefulCount', 'Year', 'Month', 'day_of_week', 'UsefulCount_boxcox',\n",
       "       'EaseofUse_boxcox', 'Sideeffect'],\n",
       "      dtype='object')"
      ]
     },
     "execution_count": 28,
     "metadata": {},
     "output_type": "execute_result"
    }
   ],
   "source": [
    "data2.columns"
   ]
  },
  {
   "cell_type": "markdown",
   "id": "752ed6ac",
   "metadata": {},
   "source": [
    "# Exploratory Data Analysis"
   ]
  },
  {
   "cell_type": "markdown",
   "id": "97ef684f",
   "metadata": {},
   "source": [
    "# #Top 20 Drugs based on No. of Users"
   ]
  },
  {
   "cell_type": "code",
   "execution_count": 29,
   "id": "01bb818c",
   "metadata": {},
   "outputs": [
    {
     "data": {
      "image/png": "[encoded data removed]",
      "text/plain": [
       "<Figure size 640x480 with 1 Axes>"
      ]
     },
     "metadata": {},
     "output_type": "display_data"
    }
   ],
   "source": [
    "data_= data['Drug'].value_counts().head(20).reset_index()\n",
    "data_.columns = ['Drug', 'Name']\n",
    "sns.barplot(data=data_, x = 'Drug', y = 'Name')\n",
    "plt.suptitle(\"Top 20 Drugs\")\n",
    "plt.xticks(rotation=90,fontsize=10)\n",
    "plt.show()"
   ]
  },
  {
   "cell_type": "markdown",
   "id": "501ea161",
   "metadata": {},
   "source": [
    "Cymbalta tops the list followed by Lisinopril. It is to be noted that all the 20 drugs has been used by more than atleast 2000 people"
   ]
  },
  {
   "cell_type": "markdown",
   "id": "3f16a85f",
   "metadata": {},
   "source": [
    "# #Top 15 Conditions"
   ]
  },
  {
   "cell_type": "code",
   "execution_count": 30,
   "id": "cb83919c",
   "metadata": {},
   "outputs": [
    {
     "data": {
      "text/plain": [
       "Text(0, 0.5, 'Users')"
      ]
     },
     "execution_count": 30,
     "metadata": {},
     "output_type": "execute_result"
    },
    {
     "data": {
      "image/png": "[encoded data removed]",
      "text/plain": [
       "<Figure size 800x800 with 1 Axes>"
      ]
     },
     "metadata": {},
     "output_type": "display_data"
    }
   ],
   "source": [
    "data['Condition'].value_counts().nlargest(20).plot(kind='bar',figsize=(8,8))\n",
    "plt.suptitle(\"Top 15 Conditions\")\n",
    "plt.xlabel('Conditions')\n",
    "plt.ylabel('Users')"
   ]
  },
  {
   "cell_type": "markdown",
   "id": "39fe0875",
   "metadata": {},
   "source": [
    "As much as 50,000 users have reported other conditions followed by Pain topped the list with more than 25000 people reporting it."
   ]
  },
  {
   "cell_type": "markdown",
   "id": "fcfdb39b",
   "metadata": {},
   "source": [
    "# EDA on Licinopril"
   ]
  },
  {
   "cell_type": "markdown",
   "id": "8d8e2229",
   "metadata": {},
   "source": [
    "# #Which gender is the predominant user?"
   ]
  },
  {
   "cell_type": "code",
   "execution_count": 31,
   "id": "6e944366",
   "metadata": {},
   "outputs": [
    {
     "data": {
      "image/png": "[encoded data removed]",
      "text/plain": [
       "<Figure size 400x400 with 1 Axes>"
      ]
     },
     "metadata": {},
     "output_type": "display_data"
    }
   ],
   "source": [
    "plt.figure(figsize = (4,4))\n",
    "s=sns.countplot(x='Sex', data=data2)\n",
    "plt.title('Users by Gender', fontsize=15)\n",
    "plt.xlabel('Sex')\n",
    "plt.ylabel('Count') \n",
    "plt.show()"
   ]
  },
  {
   "cell_type": "markdown",
   "id": "d07d69b7",
   "metadata": {},
   "source": [
    "Female users are predominant"
   ]
  },
  {
   "cell_type": "markdown",
   "id": "21b8d8b3",
   "metadata": {},
   "source": [
    "# #Which race is the predominant user?"
   ]
  },
  {
   "cell_type": "code",
   "execution_count": 32,
   "id": "917e5cdc",
   "metadata": {},
   "outputs": [
    {
     "data": {
      "text/plain": [
       "Text(0, 0.5, 'Count')"
      ]
     },
     "execution_count": 32,
     "metadata": {},
     "output_type": "execute_result"
    },
    {
     "data": {
      "image/png": "[encoded data removed]",
      "text/plain": [
       "<Figure size 640x480 with 1 Axes>"
      ]
     },
     "metadata": {},
     "output_type": "display_data"
    }
   ],
   "source": [
    "data2['Race'].value_counts().plot(kind='bar')\n",
    "plt.title(\"Race\", fontsize = 10)\n",
    "plt.xlabel(\"Race\", fontsize = 10)\n",
    "plt.ylabel(\"Count\", fontsize = 10)"
   ]
  },
  {
   "cell_type": "markdown",
   "id": "01c9e09c",
   "metadata": {},
   "source": [
    "# #In each race, which gender is the predominant user?"
   ]
  },
  {
   "cell_type": "code",
   "execution_count": 33,
   "id": "f7b0a7c7",
   "metadata": {},
   "outputs": [
    {
     "data": {
      "text/plain": [
       "Text(0.5, 1.0, 'Users by Race and Gender')"
      ]
     },
     "execution_count": 33,
     "metadata": {},
     "output_type": "execute_result"
    },
    {
     "data": {
      "image/png": "[encoded data removed]",
      "text/plain": [
       "<Figure size 640x480 with 1 Axes>"
      ]
     },
     "metadata": {},
     "output_type": "display_data"
    }
   ],
   "source": [
    "sns.countplot(x='Race',hue='Sex',data=data2)\n",
    "plt.title(\"Users by Race and Gender\", fontsize = 10)"
   ]
  },
  {
   "cell_type": "markdown",
   "id": "c9d9f3a2",
   "metadata": {},
   "source": [
    "# #In each age group, which gender is the predominant user?"
   ]
  },
  {
   "cell_type": "code",
   "execution_count": 34,
   "id": "a0a8cf40",
   "metadata": {},
   "outputs": [
    {
     "data": {
      "text/plain": [
       "Text(0.5, 1.0, 'Users by Age and Gender')"
      ]
     },
     "execution_count": 34,
     "metadata": {},
     "output_type": "execute_result"
    },
    {
     "data": {
      "image/png": "[encoded data removed]",
      "text/plain": [
       "<Figure size 1000x600 with 1 Axes>"
      ]
     },
     "metadata": {},
     "output_type": "display_data"
    }
   ],
   "source": [
    "plt.figure(figsize=(10, 6))\n",
    "sns.countplot(x='Age',hue='Sex',data=data2)\n",
    "plt.title(\"Users by Age and Gender\", fontsize = 10)"
   ]
  },
  {
   "cell_type": "markdown",
   "id": "72873e59",
   "metadata": {},
   "source": [
    "# #In each year, how many reviews were collected?"
   ]
  },
  {
   "cell_type": "code",
   "execution_count": 35,
   "id": "8bfe49a2",
   "metadata": {},
   "outputs": [
    {
     "data": {
      "text/plain": [
       "Text(0, 0.5, 'Count of Reviews')"
      ]
     },
     "execution_count": 35,
     "metadata": {},
     "output_type": "execute_result"
    },
    {
     "data": {
      "image/png": "[encoded data removed]",
      "text/plain": [
       "<Figure size 640x480 with 1 Axes>"
      ]
     },
     "metadata": {},
     "output_type": "display_data"
    }
   ],
   "source": [
    "data2['Year'].value_counts().plot(kind='bar')\n",
    "plt.title(\"Year\", fontsize = 10)\n",
    "plt.xlabel(\"Year\", fontsize = 10)\n",
    "plt.ylabel(\"Count of Reviews\", fontsize = 10)"
   ]
  },
  {
   "cell_type": "markdown",
   "id": "05745a04",
   "metadata": {},
   "source": [
    "In each year, there is a gradual decrease in user reviews"
   ]
  },
  {
   "cell_type": "markdown",
   "id": "ca8c272c",
   "metadata": {},
   "source": [
    "# #how effective is the drug?"
   ]
  },
  {
   "cell_type": "code",
   "execution_count": 36,
   "id": "44de2f00",
   "metadata": {},
   "outputs": [
    {
     "data": {
      "text/plain": [
       "Text(0, 0.5, 'Count')"
      ]
     },
     "execution_count": 36,
     "metadata": {},
     "output_type": "execute_result"
    },
    {
     "data": {
      "image/png": "[encoded data removed]",
      "text/plain": [
       "<Figure size 640x480 with 1 Axes>"
      ]
     },
     "metadata": {},
     "output_type": "display_data"
    }
   ],
   "source": [
    "data2['Effectiveness'].value_counts().plot(kind='bar')\n",
    "plt.title(\"Effectiveness\", fontsize = 10)\n",
    "plt.xlabel(\"Effectiveness\", fontsize = 10)\n",
    "plt.ylabel(\"Count\", fontsize = 10)"
   ]
  },
  {
   "cell_type": "markdown",
   "id": "ebb8eef8",
   "metadata": {},
   "source": [
    "The drug is fairly effective with around 1600 users voting a 4 rating to it"
   ]
  },
  {
   "cell_type": "markdown",
   "id": "2e2a0b06",
   "metadata": {},
   "source": [
    "# #How effective is the drug among both the gender category?"
   ]
  },
  {
   "cell_type": "code",
   "execution_count": 37,
   "id": "1ee1b0f4",
   "metadata": {},
   "outputs": [
    {
     "data": {
      "text/plain": [
       "<Figure size 1000x800 with 0 Axes>"
      ]
     },
     "metadata": {},
     "output_type": "display_data"
    },
    {
     "data": {
      "image/png": "[encoded data removed]",
      "text/plain": [
       "<Figure size 1080x600 with 2 Axes>"
      ]
     },
     "metadata": {},
     "output_type": "display_data"
    }
   ],
   "source": [
    "plt.figure(figsize=(10,8))\n",
    "g = sns.catplot(x=\"Effectiveness\",col=\"Sex\",\n",
    "                data=data2, kind=\"count\",\n",
    "                height=6,aspect =.9);"
   ]
  },
  {
   "cell_type": "markdown",
   "id": "304d041c",
   "metadata": {},
   "source": [
    "Both the users have given a mixed response"
   ]
  },
  {
   "cell_type": "markdown",
   "id": "82e1850d",
   "metadata": {},
   "source": [
    "# #How many reported side effects for the drug?"
   ]
  },
  {
   "cell_type": "code",
   "execution_count": 38,
   "id": "a915854a",
   "metadata": {},
   "outputs": [
    {
     "data": {
      "image/png": "[encoded data removed]",
      "text/plain": [
       "<Figure size 600x600 with 1 Axes>"
      ]
     },
     "metadata": {},
     "output_type": "display_data"
    }
   ],
   "source": [
    "plt.figure(figsize=(6,6))\n",
    "data2['Sideeffect'].value_counts().plot.pie(autopct='%1.1f%%')\n",
    "plt.show()"
   ]
  },
  {
   "cell_type": "markdown",
   "id": "6cbfc5aa",
   "metadata": {},
   "source": [
    "42% users reported extreme sideeffects with 1 being no side effect and 5 being extreme side effect"
   ]
  },
  {
   "cell_type": "markdown",
   "id": "9aa15fbb",
   "metadata": {},
   "source": [
    "# #Which age group has reported most side effect?"
   ]
  },
  {
   "cell_type": "code",
   "execution_count": 39,
   "id": "1e0eee29",
   "metadata": {},
   "outputs": [
    {
     "data": {
      "text/plain": [
       "<Axes: xlabel='Age', ylabel='count'>"
      ]
     },
     "execution_count": 39,
     "metadata": {},
     "output_type": "execute_result"
    },
    {
     "data": {
      "image/png": "[encoded data removed]",
      "text/plain": [
       "<Figure size 1000x600 with 1 Axes>"
      ]
     },
     "metadata": {},
     "output_type": "display_data"
    }
   ],
   "source": [
    "plt.figure(figsize=(10, 6))\n",
    "sns.countplot(x='Age',hue='Sideeffect',data=data2)"
   ]
  },
  {
   "cell_type": "markdown",
   "id": "3fff0a36",
   "metadata": {},
   "source": [
    "55-64 age group has opinionated that they had extreme side effects"
   ]
  },
  {
   "cell_type": "markdown",
   "id": "48cd382d",
   "metadata": {},
   "source": [
    "# #Among both the gender category, how is the sideeffects of the drug?"
   ]
  },
  {
   "cell_type": "code",
   "execution_count": 40,
   "id": "7b142c7b",
   "metadata": {},
   "outputs": [
    {
     "data": {
      "text/plain": [
       "<Figure size 2000x1000 with 0 Axes>"
      ]
     },
     "metadata": {},
     "output_type": "display_data"
    },
    {
     "data": {
      "image/png": "[encoded data removed]",
      "text/plain": [
       "<Figure size 1080x600 with 2 Axes>"
      ]
     },
     "metadata": {},
     "output_type": "display_data"
    }
   ],
   "source": [
    "plt.figure(figsize=(20,10))\n",
    "\n",
    "g = sns.catplot(x=\"Sideeffect\",col=\"Sex\",data=data2, kind=\"count\",height=6,aspect =.9);"
   ]
  },
  {
   "cell_type": "markdown",
   "id": "bca3ac69",
   "metadata": {},
   "source": [
    "Female users have reported more extreme side effects"
   ]
  },
  {
   "cell_type": "markdown",
   "id": "d4554647",
   "metadata": {},
   "source": [
    "# #which race has reported extreme side effects?"
   ]
  },
  {
   "cell_type": "code",
   "execution_count": 41,
   "id": "3b1ce55a",
   "metadata": {},
   "outputs": [
    {
     "data": {
      "text/plain": [
       "<Axes: xlabel='Race', ylabel='count'>"
      ]
     },
     "execution_count": 41,
     "metadata": {},
     "output_type": "execute_result"
    },
    {
     "data": {
      "image/png": "[encoded data removed]",
      "text/plain": [
       "<Figure size 1000x600 with 1 Axes>"
      ]
     },
     "metadata": {},
     "output_type": "display_data"
    }
   ],
   "source": [
    "plt.figure(figsize=(10, 6))\n",
    "sns.countplot(x='Race',hue='Sideeffect',data=data2)"
   ]
  },
  {
   "cell_type": "markdown",
   "id": "43e68a44",
   "metadata": {},
   "source": [
    "White and Hispanic users reported more extreme side effects"
   ]
  },
  {
   "cell_type": "markdown",
   "id": "08b1beea",
   "metadata": {},
   "source": [
    "# Reviews"
   ]
  },
  {
   "cell_type": "markdown",
   "id": "ea209ca6",
   "metadata": {},
   "source": [
    "Let us look at a sample of Review"
   ]
  },
  {
   "cell_type": "code",
   "execution_count": 42,
   "id": "7f0e19d1",
   "metadata": {},
   "outputs": [
    {
     "data": {
      "text/plain": [
       "10827    Boarder line HBP. Started on 10mg. Controlled ...\n",
       "11129    Took one tab a day. Third day in cough started...\n",
       "11629    I had taken this medication for about 4 weeks ...\n",
       "17058    went in for stent.bp kept going up and down, t...\n",
       "10767    Not sure it is helping, kidney creatine levels...\n",
       "Name: Reviews, dtype: object"
      ]
     },
     "execution_count": 42,
     "metadata": {},
     "output_type": "execute_result"
    }
   ],
   "source": [
    "data2.Reviews.sample(5)"
   ]
  },
  {
   "cell_type": "markdown",
   "id": "4c9e554f",
   "metadata": {},
   "source": [
    "Let us define a function to clean the text in the review so as to generate meaningfull output. The plan is to rank the reviews as either positive or negative. But, so as to rank the reviews, we need a more samples than what we have here. So, we will train the algoithm on the complete parent dataset (containing data about all the medicines). The algorithm will get trained on satisfaction and reviews, which means, it will identify which reviews or specifically word consitutes positive review ( satisfaction > 3) and which one consitute negative reviews (satisfaction < 3). Then, the generated model will be used to generate review rank ( 1 for positve and 0 for negative) for us in our dataset. Kindly note, the review rank for entries where satisfaction > 3 is 1 and for satisfaction < 3 is 0. The entries with satisfaction == 3 will be fed to the model to generate review rank values. Finally, our dataset will be complete after this."
   ]
  },
  {
   "cell_type": "markdown",
   "id": "9f3a19f2",
   "metadata": {},
   "source": [
    "# Cleaning the Global Review column"
   ]
  },
  {
   "cell_type": "code",
   "execution_count": 43,
   "id": "c8a02975",
   "metadata": {},
   "outputs": [],
   "source": [
    "if data['Reviews'].dtype.kind == \"O\":\n",
    "        data['Reviews'] = data['Reviews'].str.strip()"
   ]
  },
  {
   "cell_type": "code",
   "execution_count": 44,
   "id": "b3b16b8b",
   "metadata": {},
   "outputs": [],
   "source": [
    "data['Reviews']= data['Reviews'].astype(str)"
   ]
  },
  {
   "cell_type": "code",
   "execution_count": 45,
   "id": "ef55238b",
   "metadata": {},
   "outputs": [],
   "source": [
    "import spacy\n"
   ]
  },
  {
   "cell_type": "code",
   "execution_count": 46,
   "id": "50b2fd99",
   "metadata": {},
   "outputs": [
    {
     "name": "stdout",
     "output_type": "stream",
     "text": [
      "Collecting en-core-web-sm==3.6.0\n",
      "  Downloading https://github.com/explosion/spacy-models/releases/download/en_core_web_sm-3.6.0/en_core_web_sm-3.6.0-py3-none-any.whl (12.8 MB)\n",
      "     ---------------------------------------- 12.8/12.8 MB 5.8 MB/s eta 0:00:00\n",
      "Requirement already satisfied: spacy<3.7.0,>=3.6.0 in c:\\users\\dell\\anaconda3\\lib\\site-packages (from en-core-web-sm==3.6.0) (3.6.1)\n",
      "Requirement already satisfied: langcodes<4.0.0,>=3.2.0 in c:\\users\\dell\\anaconda3\\lib\\site-packages (from spacy<3.7.0,>=3.6.0->en-core-web-sm==3.6.0) (3.3.0)\n",
      "Requirement already satisfied: spacy-legacy<3.1.0,>=3.0.11 in c:\\users\\dell\\anaconda3\\lib\\site-packages (from spacy<3.7.0,>=3.6.0->en-core-web-sm==3.6.0) (3.0.12)\n",
      "Requirement already satisfied: catalogue<2.1.0,>=2.0.6 in c:\\users\\dell\\anaconda3\\lib\\site-packages (from spacy<3.7.0,>=3.6.0->en-core-web-sm==3.6.0) (2.0.10)\n",
      "Requirement already satisfied: smart-open<7.0.0,>=5.2.1 in c:\\users\\dell\\anaconda3\\lib\\site-packages (from spacy<3.7.0,>=3.6.0->en-core-web-sm==3.6.0) (5.2.1)\n",
      "Requirement already satisfied: cymem<2.1.0,>=2.0.2 in c:\\users\\dell\\anaconda3\\lib\\site-packages (from spacy<3.7.0,>=3.6.0->en-core-web-sm==3.6.0) (2.0.8)\n",
      "Requirement already satisfied: pydantic!=1.8,!=1.8.1,<3.0.0,>=1.7.4 in c:\\users\\dell\\anaconda3\\lib\\site-packages (from spacy<3.7.0,>=3.6.0->en-core-web-sm==3.6.0) (2.4.0)\n",
      "Requirement already satisfied: murmurhash<1.1.0,>=0.28.0 in c:\\users\\dell\\anaconda3\\lib\\site-packages (from spacy<3.7.0,>=3.6.0->en-core-web-sm==3.6.0) (1.0.10)\n",
      "Requirement already satisfied: jinja2 in c:\\users\\dell\\anaconda3\\lib\\site-packages (from spacy<3.7.0,>=3.6.0->en-core-web-sm==3.6.0) (3.1.2)\n",
      "Requirement already satisfied: srsly<3.0.0,>=2.4.3 in c:\\users\\dell\\anaconda3\\lib\\site-packages (from spacy<3.7.0,>=3.6.0->en-core-web-sm==3.6.0) (2.4.8)\n",
      "Requirement already satisfied: thinc<8.2.0,>=8.1.8 in c:\\users\\dell\\anaconda3\\lib\\site-packages (from spacy<3.7.0,>=3.6.0->en-core-web-sm==3.6.0) (8.1.12)\n",
      "Requirement already satisfied: wasabi<1.2.0,>=0.9.1 in c:\\users\\dell\\anaconda3\\lib\\site-packages (from spacy<3.7.0,>=3.6.0->en-core-web-sm==3.6.0) (1.1.2)\n",
      "Requirement already satisfied: packaging>=20.0 in c:\\users\\dell\\anaconda3\\lib\\site-packages (from spacy<3.7.0,>=3.6.0->en-core-web-sm==3.6.0) (22.0)\n",
      "Requirement already satisfied: pathy>=0.10.0 in c:\\users\\dell\\anaconda3\\lib\\site-packages (from spacy<3.7.0,>=3.6.0->en-core-web-sm==3.6.0) (0.10.2)\n",
      "Requirement already satisfied: typer<0.10.0,>=0.3.0 in c:\\users\\dell\\anaconda3\\lib\\site-packages (from spacy<3.7.0,>=3.6.0->en-core-web-sm==3.6.0) (0.9.0)\n",
      "Requirement already satisfied: tqdm<5.0.0,>=4.38.0 in c:\\users\\dell\\anaconda3\\lib\\site-packages (from spacy<3.7.0,>=3.6.0->en-core-web-sm==3.6.0) (4.64.1)\n",
      "Requirement already satisfied: preshed<3.1.0,>=3.0.2 in c:\\users\\dell\\anaconda3\\lib\\site-packages (from spacy<3.7.0,>=3.6.0->en-core-web-sm==3.6.0) (3.0.9)\n",
      "Requirement already satisfied: setuptools in c:\\users\\dell\\anaconda3\\lib\\site-packages (from spacy<3.7.0,>=3.6.0->en-core-web-sm==3.6.0) (65.6.3)\n",
      "Requirement already satisfied: requests<3.0.0,>=2.13.0 in c:\\users\\dell\\anaconda3\\lib\\site-packages (from spacy<3.7.0,>=3.6.0->en-core-web-sm==3.6.0) (2.28.1)\n",
      "Requirement already satisfied: spacy-loggers<2.0.0,>=1.0.0 in c:\\users\\dell\\anaconda3\\lib\\site-packages (from spacy<3.7.0,>=3.6.0->en-core-web-sm==3.6.0) (1.0.5)\n",
      "Requirement already satisfied: numpy>=1.15.0 in c:\\users\\dell\\anaconda3\\lib\\site-packages (from spacy<3.7.0,>=3.6.0->en-core-web-sm==3.6.0) (1.23.5)\n",
      "Requirement already satisfied: annotated-types>=0.4.0 in c:\\users\\dell\\anaconda3\\lib\\site-packages (from pydantic!=1.8,!=1.8.1,<3.0.0,>=1.7.4->spacy<3.7.0,>=3.6.0->en-core-web-sm==3.6.0) (0.5.0)\n",
      "Requirement already satisfied: typing-extensions>=4.6.1 in c:\\users\\dell\\anaconda3\\lib\\site-packages (from pydantic!=1.8,!=1.8.1,<3.0.0,>=1.7.4->spacy<3.7.0,>=3.6.0->en-core-web-sm==3.6.0) (4.8.0)\n",
      "Requirement already satisfied: pydantic-core==2.10.0 in c:\\users\\dell\\anaconda3\\lib\\site-packages (from pydantic!=1.8,!=1.8.1,<3.0.0,>=1.7.4->spacy<3.7.0,>=3.6.0->en-core-web-sm==3.6.0) (2.10.0)\n",
      "Requirement already satisfied: certifi>=2017.4.17 in c:\\users\\dell\\anaconda3\\lib\\site-packages (from requests<3.0.0,>=2.13.0->spacy<3.7.0,>=3.6.0->en-core-web-sm==3.6.0) (2022.12.7)\n",
      "Requirement already satisfied: urllib3<1.27,>=1.21.1 in c:\\users\\dell\\anaconda3\\lib\\site-packages (from requests<3.0.0,>=2.13.0->spacy<3.7.0,>=3.6.0->en-core-web-sm==3.6.0) (1.26.14)\n",
      "Requirement already satisfied: idna<4,>=2.5 in c:\\users\\dell\\anaconda3\\lib\\site-packages (from requests<3.0.0,>=2.13.0->spacy<3.7.0,>=3.6.0->en-core-web-sm==3.6.0) (3.4)\n",
      "Requirement already satisfied: charset-normalizer<3,>=2 in c:\\users\\dell\\anaconda3\\lib\\site-packages (from requests<3.0.0,>=2.13.0->spacy<3.7.0,>=3.6.0->en-core-web-sm==3.6.0) (2.0.4)\n",
      "Requirement already satisfied: blis<0.8.0,>=0.7.8 in c:\\users\\dell\\anaconda3\\lib\\site-packages (from thinc<8.2.0,>=8.1.8->spacy<3.7.0,>=3.6.0->en-core-web-sm==3.6.0) (0.7.11)\n",
      "Requirement already satisfied: confection<1.0.0,>=0.0.1 in c:\\users\\dell\\anaconda3\\lib\\site-packages (from thinc<8.2.0,>=8.1.8->spacy<3.7.0,>=3.6.0->en-core-web-sm==3.6.0) (0.1.3)\n",
      "Requirement already satisfied: colorama in c:\\users\\dell\\anaconda3\\lib\\site-packages (from tqdm<5.0.0,>=4.38.0->spacy<3.7.0,>=3.6.0->en-core-web-sm==3.6.0) (0.4.6)\n",
      "Requirement already satisfied: click<9.0.0,>=7.1.1 in c:\\users\\dell\\anaconda3\\lib\\site-packages (from typer<0.10.0,>=0.3.0->spacy<3.7.0,>=3.6.0->en-core-web-sm==3.6.0) (8.0.4)\n",
      "Requirement already satisfied: MarkupSafe>=2.0 in c:\\users\\dell\\anaconda3\\lib\\site-packages (from jinja2->spacy<3.7.0,>=3.6.0->en-core-web-sm==3.6.0) (2.1.1)\n",
      "\u001b[38;5;2m[+] Download and installation successful\u001b[0m\n",
      "You can now load the package via spacy.load('en_core_web_sm')\n",
      "CPU times: total: 3.66 s\n",
      "Wall time: 28.7 s\n"
     ]
    }
   ],
   "source": [
    "%%time\n",
    "\n",
    "import spacy\n",
    "import numpy as np\n",
    "import pandas as pd\n",
    "import string\n",
    "from nltk.corpus import stopwords\n",
    "from sklearn.feature_extraction.text import ENGLISH_STOP_WORDS as sklearn_stop_words\n",
    "\n",
    "# Download and install the spaCy model\n",
    "!python -m spacy download en_core_web_sm\n",
    "\n",
    "nlp = spacy.load(\"en_core_web_sm\", disable=[\"ner\", \"parser\"])\n",
    "STOPWORDS = set(sklearn_stop_words).union(set(stopwords.words(\"english\")))\n",
    "\n",
    "# Define your clean_review function (same as in your original code)\n",
    "\n",
    "# Your clean_review function definition here...\n",
    "\n",
    "# Now you can proceed with the rest of your code as before\n"
   ]
  },
  {
   "cell_type": "code",
   "execution_count": 47,
   "id": "d159cf85",
   "metadata": {},
   "outputs": [
    {
     "name": "stderr",
     "output_type": "stream",
     "text": [
      "[nltk_data] Downloading package stopwords to\n",
      "[nltk_data]     C:\\Users\\DELL\\AppData\\Roaming\\nltk_data...\n",
      "[nltk_data]   Package stopwords is already up-to-date!\n"
     ]
    },
    {
     "data": {
      "text/plain": [
       "True"
      ]
     },
     "execution_count": 47,
     "metadata": {},
     "output_type": "execute_result"
    }
   ],
   "source": [
    "import nltk\n",
    "nltk.download('stopwords')"
   ]
  },
  {
   "cell_type": "code",
   "execution_count": 48,
   "id": "a43effee",
   "metadata": {},
   "outputs": [
    {
     "name": "stderr",
     "output_type": "stream",
     "text": [
      "[nltk_data] Downloading package stopwords to\n",
      "[nltk_data]     C:\\Users\\DELL\\AppData\\Roaming\\nltk_data...\n",
      "[nltk_data]   Package stopwords is already up-to-date!\n"
     ]
    },
    {
     "name": "stdout",
     "output_type": "stream",
     "text": [
      "CPU times: total: 2.16 s\n",
      "Wall time: 2.25 s\n"
     ]
    }
   ],
   "source": [
    "%%time\n",
    "\n",
    "import spacy\n",
    "import numpy as np\n",
    "import pandas as pd\n",
    "import string\n",
    "import nltk  # Import NLTK\n",
    "from nltk.corpus import stopwords\n",
    "from sklearn.feature_extraction.text import ENGLISH_STOP_WORDS as sklearn_stop_words\n",
    "\n",
    "# Download the stopwords corpus\n",
    "nltk.download('stopwords')\n",
    "\n",
    "nlp = spacy.load(\"en_core_web_sm\", disable=[\"ner\", \"parser\"])\n",
    "STOPWORDS = set(sklearn_stop_words).union(set(stopwords.words(\"english\")))\n",
    "\n",
    "# Define your clean_review function (same as in your original code)\n",
    "\n",
    "# Your clean_review function definition here...\n",
    "\n",
    "# Now you can proceed with the rest of your code as before\n"
   ]
  },
  {
   "cell_type": "code",
   "execution_count": 49,
   "id": "10ff0958",
   "metadata": {},
   "outputs": [
    {
     "name": "stderr",
     "output_type": "stream",
     "text": [
      "<timed exec>:39: SettingWithCopyWarning: \n",
      "A value is trying to be set on a copy of a slice from a DataFrame.\n",
      "Try using .loc[row_indexer,col_indexer] = value instead\n",
      "\n",
      "See the caveats in the documentation: https://pandas.pydata.org/pandas-docs/stable/user_guide/indexing.html#returning-a-view-versus-a-copy\n",
      "<timed exec>:42: SettingWithCopyWarning: \n",
      "A value is trying to be set on a copy of a slice from a DataFrame\n",
      "\n",
      "See the caveats in the documentation: https://pandas.pydata.org/pandas-docs/stable/user_guide/indexing.html#returning-a-view-versus-a-copy\n"
     ]
    },
    {
     "name": "stdout",
     "output_type": "stream",
     "text": [
      "CPU times: total: 58min 3s\n",
      "Wall time: 58min 16s\n"
     ]
    },
    {
     "name": "stderr",
     "output_type": "stream",
     "text": [
      "<timed exec>:43: SettingWithCopyWarning: \n",
      "A value is trying to be set on a copy of a slice from a DataFrame\n",
      "\n",
      "See the caveats in the documentation: https://pandas.pydata.org/pandas-docs/stable/user_guide/indexing.html#returning-a-view-versus-a-copy\n"
     ]
    }
   ],
   "source": [
    "%%time\n",
    "\n",
    "nlp = spacy.load(\"en_core_web_sm\", disable=[\"ner\", \"parser\"])\n",
    "STOPWORDS = set(sklearn_stop_words).union(set(stopwords.words(\"english\")))\n",
    "\n",
    "def clean_review(text, STOPWORDS=STOPWORDS, nlp=nlp):\n",
    "    \"\"\"Cleans up text\"\"\"\n",
    "    \n",
    "    def rep_emo(text, placeholder_pos=' happyemoticon ', placeholder_neg=' sademoticon '):\n",
    "        \"\"\"Replace emoticons\"\"\"\n",
    "        # Credit https://github.com/shaheen-syed/Twitter-Sentiment-Analysis/blob/master/helper_functions.py\n",
    "        emoticons_pos = [\":)\", \":-)\", \":p\", \":-p\", \":P\", \":-P\", \":D\",\":-D\", \":]\", \":-]\", \";)\", \";-)\",\n",
    "                         \";p\", \";-p\", \";P\", \";-P\", \";D\", \";-D\", \";]\", \";-]\", \"=)\", \"=-)\", \"<3\"]\n",
    "        emoticons_neg = [\":o\", \":-o\", \":O\", \":-O\", \":(\", \":-(\", \":c\", \":-c\", \":C\", \":-C\", \":[\", \":-[\",\n",
    "                         \":/\", \":-/\", \":\\\\\", \":-\\\\\", \":n\", \":-n\", \":u\", \":-u\", \"=(\", \"=-(\", \":$\", \":-$\"]\n",
    "\n",
    "        for e in emoticons_pos:\n",
    "            text = text.replace(e, placeholder_pos)\n",
    "\n",
    "        for e in emoticons_neg:\n",
    "            text = text.replace(e, placeholder_neg)   \n",
    "        return text\n",
    "\n",
    "    def rep_punct(text):\n",
    "        \"\"\"Replace all punctuation with space\"\"\"\n",
    "        for c in string.punctuation:\n",
    "            text = text.replace(c, \" \")\n",
    "        return text\n",
    "\n",
    "    def rem_stop_num(text):\n",
    "        \"\"\"Remove stop words and anything starting with number\"\"\"\n",
    "        return \" \".join(word for word in text.split() if word not in STOPWORDS and not word[0].isdigit())\n",
    "\n",
    "    def lemmatize(text):\n",
    "        \"\"\"Return lemmas of tokens in text\"\"\"\n",
    "        return \" \".join(tok.lemma_.lower().strip() for tok in nlp(text) if tok.lemma_ != \"-PRON-\")  \n",
    "\n",
    "    return lemmatize(rem_stop_num(rep_punct(rep_emo(text))))\n",
    "\n",
    "mldf = data[[\"Satisfaction\", \"Reviews\"]]\n",
    "mldf[\"Reviews\"] = mldf[\"Reviews\"].apply(clean_review)\n",
    "\n",
    "# remove any rows with new empty strings following the clean-up\n",
    "mldf[\"Reviews\"].replace(\"\", np.nan, inplace=True)\n",
    "mldf.dropna(inplace=True)\n",
    "# adding indexes as \"index\" column for later use to recreate same splits \n",
    "mldf.reset_index(inplace=True)"
   ]
  },
  {
   "cell_type": "markdown",
   "id": "42b00c56",
   "metadata": {},
   "source": [
    "Review column is cleaned. A new column satisfaction1 is generated which will help in identifiying postive and negative reviews for algorithm where 0 is negative, 2 is positive and 1 is neutral for satisfaction < 3, > 3 and ==3 respectively. We will omit the neutral reviews."
   ]
  },
  {
   "cell_type": "code",
   "execution_count": 50,
   "id": "46a64c03",
   "metadata": {},
   "outputs": [
    {
     "name": "stderr",
     "output_type": "stream",
     "text": [
      "C:\\Users\\DELL\\AppData\\Local\\Temp\\ipykernel_12780\\3317385529.py:4: SettingWithCopyWarning: \n",
      "A value is trying to be set on a copy of a slice from a DataFrame.\n",
      "Try using .loc[row_indexer,col_indexer] = value instead\n",
      "\n",
      "See the caveats in the documentation: https://pandas.pydata.org/pandas-docs/stable/user_guide/indexing.html#returning-a-view-versus-a-copy\n",
      "  mldf[\"Satisfaction1\"] = mldf[\"Satisfaction\"].apply(relabel)\n"
     ]
    }
   ],
   "source": [
    "def relabel(x):\n",
    "    return 0 if x < 3 else 1 if x == 3 else 2\n",
    "\n",
    "mldf[\"Satisfaction1\"] = mldf[\"Satisfaction\"].apply(relabel)\n"
   ]
  },
  {
   "cell_type": "markdown",
   "id": "87bb3840",
   "metadata": {},
   "source": [
    "# Generating Text processing Model"
   ]
  },
  {
   "cell_type": "code",
   "execution_count": 52,
   "id": "c1ce9db0",
   "metadata": {},
   "outputs": [
    {
     "name": "stdout",
     "output_type": "stream",
     "text": [
      "(240564, 4)\n",
      "(80189, 4)\n"
     ]
    }
   ],
   "source": [
    "from sklearn.model_selection import train_test_split\n",
    "\n",
    "# Assuming you have imported your DataFrame 'mldf' properly\n",
    "\n",
    "train_set, test_set = train_test_split(mldf, test_size=0.25, random_state=0, stratify=mldf[\"Satisfaction1\"])\n",
    "train_index = train_set.index\n",
    "test_index = test_set.index\n",
    "print(train_set.shape)\n",
    "print(test_set.shape)"
   ]
  },
  {
   "cell_type": "code",
   "execution_count": 54,
   "id": "47aa93e1",
   "metadata": {},
   "outputs": [],
   "source": [
    "from sklearn.feature_extraction.text import TfidfVectorizer"
   ]
  },
  {
   "cell_type": "code",
   "execution_count": 55,
   "id": "4bbe811c",
   "metadata": {},
   "outputs": [],
   "source": [
    "from sklearn.model_selection import train_test_split\n",
    "from sklearn.feature_extraction.text import TfidfVectorizer\n",
    "from sklearn.ensemble import RandomForestClassifier\n",
    "from sklearn.metrics import accuracy_score, classification_report"
   ]
  },
  {
   "cell_type": "code",
   "execution_count": 56,
   "id": "ffa079cd",
   "metadata": {},
   "outputs": [
    {
     "name": "stdout",
     "output_type": "stream",
     "text": [
      "(207859, 4)\n",
      "(69287, 4)\n",
      "\n",
      "Accuracy in train set: 0.99\n",
      "\n",
      "Accuracy in test  set: 0.83\n",
      "\n",
      "              precision    recall  f1-score   support\n",
      "\n",
      "           0       0.83      0.80      0.82     32110\n",
      "           2       0.83      0.86      0.85     37177\n",
      "\n",
      "    accuracy                           0.83     69287\n",
      "   macro avg       0.83      0.83      0.83     69287\n",
      "weighted avg       0.83      0.83      0.83     69287\n",
      "\n",
      "CPU times: total: 39min 46s\n",
      "Wall time: 40min 24s\n"
     ]
    }
   ],
   "source": [
    "%%time\n",
    "train_set = train_set[train_set[\"Satisfaction1\"] != 1]\n",
    "test_set = test_set[test_set[\"Satisfaction1\"] != 1]\n",
    "print(train_set.shape)\n",
    "print(test_set.shape)\n",
    "\n",
    "vectorizer = TfidfVectorizer(max_features=2500, min_df=10, max_df=0.8)\n",
    "X_train = vectorizer.fit_transform(train_set[\"Reviews\"]).toarray()\n",
    "X_test = vectorizer.transform(test_set[\"Reviews\"]).toarray()\n",
    "y_train = train_set[\"Satisfaction1\"].values\n",
    "y_test = test_set[\"Satisfaction1\"].values\n",
    "\n",
    "model = RandomForestClassifier(min_samples_split=6, random_state=0)\n",
    "model.fit(X_train, y_train)\n",
    "\n",
    "acc_train = accuracy_score(y_train, model.predict(X_train))\n",
    "print(f\"\\nAccuracy in train set: {acc_train:.2}\")\n",
    "predictions = model.predict(X_test)\n",
    "acc_test = accuracy_score(y_test, predictions)\n",
    "print(f\"\\nAccuracy in test  set: {acc_test:.2}\\n\")\n",
    "print(classification_report(y_test, predictions))"
   ]
  },
  {
   "cell_type": "markdown",
   "id": "29a66fc8",
   "metadata": {},
   "source": [
    "We got an accuracy of 83%.\n",
    "\n",
    "\n",
    "Let us the clean the review specific to our drug"
   ]
  },
  {
   "cell_type": "code",
   "execution_count": 58,
   "id": "26195efc",
   "metadata": {},
   "outputs": [
    {
     "name": "stderr",
     "output_type": "stream",
     "text": [
      "C:\\Users\\DELL\\AppData\\Local\\Temp\\ipykernel_12780\\2125253573.py:1: SettingWithCopyWarning: \n",
      "A value is trying to be set on a copy of a slice from a DataFrame.\n",
      "Try using .loc[row_indexer,col_indexer] = value instead\n",
      "\n",
      "See the caveats in the documentation: https://pandas.pydata.org/pandas-docs/stable/user_guide/indexing.html#returning-a-view-versus-a-copy\n",
      "  data2[\"Reviews\"] = data2[\"Reviews\"].apply(clean_review)\n"
     ]
    }
   ],
   "source": [
    "data2[\"Reviews\"] = data2[\"Reviews\"].apply(clean_review)"
   ]
  },
  {
   "cell_type": "markdown",
   "id": "7f4c246c",
   "metadata": {},
   "source": [
    "Let us the rank the reviews by creating a function for the same"
   ]
  },
  {
   "cell_type": "code",
   "execution_count": 59,
   "id": "b9cda6e0",
   "metadata": {},
   "outputs": [
    {
     "name": "stderr",
     "output_type": "stream",
     "text": [
      "C:\\Users\\DELL\\AppData\\Local\\Temp\\ipykernel_12780\\3712854539.py:17: SettingWithCopyWarning: \n",
      "A value is trying to be set on a copy of a slice from a DataFrame.\n",
      "Try using .loc[row_indexer,col_indexer] = value instead\n",
      "\n",
      "See the caveats in the documentation: https://pandas.pydata.org/pandas-docs/stable/user_guide/indexing.html#returning-a-view-versus-a-copy\n",
      "  data2['Reviews_Rank'] = data2['Satisfaction']\n"
     ]
    },
    {
     "data": {
      "text/plain": [
       "array([1., 0.])"
      ]
     },
     "execution_count": 59,
     "metadata": {},
     "output_type": "execute_result"
    }
   ],
   "source": [
    "def predict_rank(text):\n",
    "    cleaned_text = [clean_review(text)]\n",
    "    padded_text = vectorizer.transform(cleaned_text)\n",
    "    p = model.predict(padded_text)[0]\n",
    "    if (p == 0):\n",
    "        return 0\n",
    "    else :\n",
    "        return 1\n",
    "    \n",
    "def predict_rank1(rank):\n",
    "    if (rank < 3):\n",
    "        return 0\n",
    "    else:\n",
    "        return 1\n",
    "    \n",
    "# predict_rank(\"I loved it\")\n",
    "data2['Reviews_Rank'] = data2['Satisfaction']\n",
    "data2.loc[data2['Satisfaction'] < 3, 'Reviews_Rank'] = data2.loc[data2['Satisfaction'] < 3, 'Reviews_Rank'].apply(predict_rank1)\n",
    "data2.loc[data2['Satisfaction'] > 3, 'Reviews_Rank'] = data2.loc[data2['Satisfaction'] > 3, 'Reviews_Rank'].apply(predict_rank1)\n",
    "data2.loc[data2['Satisfaction'] == 3, 'Reviews_Rank'] = data2.loc[data2['Satisfaction'] == 3, 'Reviews'].apply(predict_rank)\n",
    "data2['Reviews_Rank'].unique()"
   ]
  },
  {
   "cell_type": "markdown",
   "id": "43f61267",
   "metadata": {},
   "source": [
    "Columns Name has unique values so will be dropped. Drug, DrugId, Condition, Date, Easeofuse, usefulcount, sides, Year will be dropped. Race, Sex, Year, Month, Dayofweek will be onehot encoded. Satisfaction will be segregated based on the values as nil, mild, moderate, sever, extreme based on values of 5, 4, 3, 2, 1 respectively. The assumption being that thet satisfaction is a parameter that gets affected by side effects in case of patients."
   ]
  },
  {
   "cell_type": "code",
   "execution_count": 60,
   "id": "261ee542",
   "metadata": {},
   "outputs": [
    {
     "name": "stderr",
     "output_type": "stream",
     "text": [
      "C:\\Users\\DELL\\AppData\\Local\\Temp\\ipykernel_12780\\1448860981.py:1: SettingWithCopyWarning: \n",
      "A value is trying to be set on a copy of a slice from a DataFrame\n",
      "\n",
      "See the caveats in the documentation: https://pandas.pydata.org/pandas-docs/stable/user_guide/indexing.html#returning-a-view-versus-a-copy\n",
      "  data2.drop(['Name','Condition','Date','Drug','DrugId','EaseofUse','Sides','UsefulCount'], axis=1, inplace = True)\n"
     ]
    }
   ],
   "source": [
    "data2.drop(['Name','Condition','Date','Drug','DrugId','EaseofUse','Sides','UsefulCount'], axis=1, inplace = True)"
   ]
  },
  {
   "cell_type": "code",
   "execution_count": 61,
   "id": "da0177c7",
   "metadata": {},
   "outputs": [
    {
     "name": "stderr",
     "output_type": "stream",
     "text": [
      "C:\\Users\\DELL\\AppData\\Local\\Temp\\ipykernel_12780\\1324693837.py:1: SettingWithCopyWarning: \n",
      "A value is trying to be set on a copy of a slice from a DataFrame.\n",
      "Try using .loc[row_indexer,col_indexer] = value instead\n",
      "\n",
      "See the caveats in the documentation: https://pandas.pydata.org/pandas-docs/stable/user_guide/indexing.html#returning-a-view-versus-a-copy\n",
      "  data2.Month = data2.Month.astype(str)\n",
      "C:\\Users\\DELL\\AppData\\Local\\Temp\\ipykernel_12780\\1324693837.py:2: SettingWithCopyWarning: \n",
      "A value is trying to be set on a copy of a slice from a DataFrame.\n",
      "Try using .loc[row_indexer,col_indexer] = value instead\n",
      "\n",
      "See the caveats in the documentation: https://pandas.pydata.org/pandas-docs/stable/user_guide/indexing.html#returning-a-view-versus-a-copy\n",
      "  data2.Year = data2.Year.astype(str)\n"
     ]
    },
    {
     "data": {
      "text/plain": [
       "Index(['Race', 'Age', 'Effectiveness', 'Reviews', 'Satisfaction', 'Sex',\n",
       "       'Year', 'Month', 'day_of_week', 'UsefulCount_boxcox',\n",
       "       'EaseofUse_boxcox', 'Sideeffect', 'Reviews_Rank'],\n",
       "      dtype='object')"
      ]
     },
     "execution_count": 61,
     "metadata": {},
     "output_type": "execute_result"
    }
   ],
   "source": [
    "data2.Month = data2.Month.astype(str)\n",
    "data2.Year = data2.Year.astype(str)\n",
    "data_encod = data2[['Race', 'Age','Sex','Month','day_of_week']]\n",
    "data_num = data2[['Effectiveness']]\n",
    "data2.columns"
   ]
  },
  {
   "cell_type": "markdown",
   "id": "297d3f22",
   "metadata": {},
   "source": [
    "# Encoding : One Hot Encoding"
   ]
  },
  {
   "cell_type": "code",
   "execution_count": 62,
   "id": "17fefe6a",
   "metadata": {},
   "outputs": [
    {
     "data": {
      "text/html": [
       "<div>\n",
       "<style scoped>\n",
       "    .dataframe tbody tr th:only-of-type {\n",
       "        vertical-align: middle;\n",
       "    }\n",
       "\n",
       "    .dataframe tbody tr th {\n",
       "        vertical-align: top;\n",
       "    }\n",
       "\n",
       "    .dataframe thead th {\n",
       "        text-align: right;\n",
       "    }\n",
       "</style>\n",
       "<table border=\"1\" class=\"dataframe\">\n",
       "  <thead>\n",
       "    <tr style=\"text-align: right;\">\n",
       "      <th></th>\n",
       "      <th>Race_Asian</th>\n",
       "      <th>Race_Black</th>\n",
       "      <th>Race_Hispanic</th>\n",
       "      <th>Race_White</th>\n",
       "      <th>Age_0-2</th>\n",
       "      <th>Age_13-18</th>\n",
       "      <th>Age_19-24</th>\n",
       "      <th>Age_25-34</th>\n",
       "      <th>Age_35-44</th>\n",
       "      <th>Age_45-54</th>\n",
       "      <th>...</th>\n",
       "      <th>Month_7</th>\n",
       "      <th>Month_8</th>\n",
       "      <th>Month_9</th>\n",
       "      <th>day_of_week_Friday</th>\n",
       "      <th>day_of_week_Monday</th>\n",
       "      <th>day_of_week_Saturday</th>\n",
       "      <th>day_of_week_Sunday</th>\n",
       "      <th>day_of_week_Thursday</th>\n",
       "      <th>day_of_week_Tuesday</th>\n",
       "      <th>day_of_week_Wednesday</th>\n",
       "    </tr>\n",
       "  </thead>\n",
       "  <tbody>\n",
       "    <tr>\n",
       "      <th>9203</th>\n",
       "      <td>0</td>\n",
       "      <td>1</td>\n",
       "      <td>0</td>\n",
       "      <td>0</td>\n",
       "      <td>0</td>\n",
       "      <td>0</td>\n",
       "      <td>0</td>\n",
       "      <td>0</td>\n",
       "      <td>0</td>\n",
       "      <td>0</td>\n",
       "      <td>...</td>\n",
       "      <td>0</td>\n",
       "      <td>0</td>\n",
       "      <td>0</td>\n",
       "      <td>0</td>\n",
       "      <td>0</td>\n",
       "      <td>1</td>\n",
       "      <td>0</td>\n",
       "      <td>0</td>\n",
       "      <td>0</td>\n",
       "      <td>0</td>\n",
       "    </tr>\n",
       "    <tr>\n",
       "      <th>9209</th>\n",
       "      <td>0</td>\n",
       "      <td>0</td>\n",
       "      <td>0</td>\n",
       "      <td>1</td>\n",
       "      <td>0</td>\n",
       "      <td>0</td>\n",
       "      <td>0</td>\n",
       "      <td>0</td>\n",
       "      <td>0</td>\n",
       "      <td>0</td>\n",
       "      <td>...</td>\n",
       "      <td>0</td>\n",
       "      <td>0</td>\n",
       "      <td>0</td>\n",
       "      <td>0</td>\n",
       "      <td>0</td>\n",
       "      <td>0</td>\n",
       "      <td>0</td>\n",
       "      <td>0</td>\n",
       "      <td>1</td>\n",
       "      <td>0</td>\n",
       "    </tr>\n",
       "    <tr>\n",
       "      <th>9215</th>\n",
       "      <td>1</td>\n",
       "      <td>0</td>\n",
       "      <td>0</td>\n",
       "      <td>0</td>\n",
       "      <td>0</td>\n",
       "      <td>0</td>\n",
       "      <td>0</td>\n",
       "      <td>0</td>\n",
       "      <td>0</td>\n",
       "      <td>0</td>\n",
       "      <td>...</td>\n",
       "      <td>0</td>\n",
       "      <td>0</td>\n",
       "      <td>0</td>\n",
       "      <td>0</td>\n",
       "      <td>0</td>\n",
       "      <td>0</td>\n",
       "      <td>0</td>\n",
       "      <td>1</td>\n",
       "      <td>0</td>\n",
       "      <td>0</td>\n",
       "    </tr>\n",
       "    <tr>\n",
       "      <th>9221</th>\n",
       "      <td>0</td>\n",
       "      <td>0</td>\n",
       "      <td>0</td>\n",
       "      <td>1</td>\n",
       "      <td>0</td>\n",
       "      <td>0</td>\n",
       "      <td>0</td>\n",
       "      <td>0</td>\n",
       "      <td>0</td>\n",
       "      <td>0</td>\n",
       "      <td>...</td>\n",
       "      <td>0</td>\n",
       "      <td>0</td>\n",
       "      <td>0</td>\n",
       "      <td>0</td>\n",
       "      <td>0</td>\n",
       "      <td>0</td>\n",
       "      <td>1</td>\n",
       "      <td>0</td>\n",
       "      <td>0</td>\n",
       "      <td>0</td>\n",
       "    </tr>\n",
       "    <tr>\n",
       "      <th>9227</th>\n",
       "      <td>1</td>\n",
       "      <td>0</td>\n",
       "      <td>0</td>\n",
       "      <td>0</td>\n",
       "      <td>0</td>\n",
       "      <td>0</td>\n",
       "      <td>0</td>\n",
       "      <td>0</td>\n",
       "      <td>0</td>\n",
       "      <td>0</td>\n",
       "      <td>...</td>\n",
       "      <td>0</td>\n",
       "      <td>1</td>\n",
       "      <td>0</td>\n",
       "      <td>1</td>\n",
       "      <td>0</td>\n",
       "      <td>0</td>\n",
       "      <td>0</td>\n",
       "      <td>0</td>\n",
       "      <td>0</td>\n",
       "      <td>0</td>\n",
       "    </tr>\n",
       "    <tr>\n",
       "      <th>...</th>\n",
       "      <td>...</td>\n",
       "      <td>...</td>\n",
       "      <td>...</td>\n",
       "      <td>...</td>\n",
       "      <td>...</td>\n",
       "      <td>...</td>\n",
       "      <td>...</td>\n",
       "      <td>...</td>\n",
       "      <td>...</td>\n",
       "      <td>...</td>\n",
       "      <td>...</td>\n",
       "      <td>...</td>\n",
       "      <td>...</td>\n",
       "      <td>...</td>\n",
       "      <td>...</td>\n",
       "      <td>...</td>\n",
       "      <td>...</td>\n",
       "      <td>...</td>\n",
       "      <td>...</td>\n",
       "      <td>...</td>\n",
       "      <td>...</td>\n",
       "    </tr>\n",
       "    <tr>\n",
       "      <th>18981</th>\n",
       "      <td>1</td>\n",
       "      <td>0</td>\n",
       "      <td>0</td>\n",
       "      <td>0</td>\n",
       "      <td>0</td>\n",
       "      <td>0</td>\n",
       "      <td>0</td>\n",
       "      <td>1</td>\n",
       "      <td>0</td>\n",
       "      <td>0</td>\n",
       "      <td>...</td>\n",
       "      <td>0</td>\n",
       "      <td>0</td>\n",
       "      <td>0</td>\n",
       "      <td>0</td>\n",
       "      <td>0</td>\n",
       "      <td>0</td>\n",
       "      <td>1</td>\n",
       "      <td>0</td>\n",
       "      <td>0</td>\n",
       "      <td>0</td>\n",
       "    </tr>\n",
       "    <tr>\n",
       "      <th>18982</th>\n",
       "      <td>0</td>\n",
       "      <td>0</td>\n",
       "      <td>0</td>\n",
       "      <td>1</td>\n",
       "      <td>0</td>\n",
       "      <td>0</td>\n",
       "      <td>0</td>\n",
       "      <td>0</td>\n",
       "      <td>0</td>\n",
       "      <td>1</td>\n",
       "      <td>...</td>\n",
       "      <td>0</td>\n",
       "      <td>0</td>\n",
       "      <td>0</td>\n",
       "      <td>0</td>\n",
       "      <td>0</td>\n",
       "      <td>1</td>\n",
       "      <td>0</td>\n",
       "      <td>0</td>\n",
       "      <td>0</td>\n",
       "      <td>0</td>\n",
       "    </tr>\n",
       "    <tr>\n",
       "      <th>18984</th>\n",
       "      <td>1</td>\n",
       "      <td>0</td>\n",
       "      <td>0</td>\n",
       "      <td>0</td>\n",
       "      <td>0</td>\n",
       "      <td>0</td>\n",
       "      <td>0</td>\n",
       "      <td>0</td>\n",
       "      <td>0</td>\n",
       "      <td>1</td>\n",
       "      <td>...</td>\n",
       "      <td>0</td>\n",
       "      <td>0</td>\n",
       "      <td>0</td>\n",
       "      <td>1</td>\n",
       "      <td>0</td>\n",
       "      <td>0</td>\n",
       "      <td>0</td>\n",
       "      <td>0</td>\n",
       "      <td>0</td>\n",
       "      <td>0</td>\n",
       "    </tr>\n",
       "    <tr>\n",
       "      <th>18985</th>\n",
       "      <td>1</td>\n",
       "      <td>0</td>\n",
       "      <td>0</td>\n",
       "      <td>0</td>\n",
       "      <td>0</td>\n",
       "      <td>0</td>\n",
       "      <td>0</td>\n",
       "      <td>1</td>\n",
       "      <td>0</td>\n",
       "      <td>0</td>\n",
       "      <td>...</td>\n",
       "      <td>0</td>\n",
       "      <td>0</td>\n",
       "      <td>0</td>\n",
       "      <td>1</td>\n",
       "      <td>0</td>\n",
       "      <td>0</td>\n",
       "      <td>0</td>\n",
       "      <td>0</td>\n",
       "      <td>0</td>\n",
       "      <td>0</td>\n",
       "    </tr>\n",
       "    <tr>\n",
       "      <th>18990</th>\n",
       "      <td>1</td>\n",
       "      <td>0</td>\n",
       "      <td>0</td>\n",
       "      <td>0</td>\n",
       "      <td>0</td>\n",
       "      <td>0</td>\n",
       "      <td>0</td>\n",
       "      <td>0</td>\n",
       "      <td>0</td>\n",
       "      <td>0</td>\n",
       "      <td>...</td>\n",
       "      <td>0</td>\n",
       "      <td>0</td>\n",
       "      <td>0</td>\n",
       "      <td>0</td>\n",
       "      <td>1</td>\n",
       "      <td>0</td>\n",
       "      <td>0</td>\n",
       "      <td>0</td>\n",
       "      <td>0</td>\n",
       "      <td>0</td>\n",
       "    </tr>\n",
       "  </tbody>\n",
       "</table>\n",
       "<p>6526 rows × 34 columns</p>\n",
       "</div>"
      ],
      "text/plain": [
       "       Race_Asian  Race_Black  Race_Hispanic  Race_White  Age_0-2  Age_13-18  \\\n",
       "9203            0           1              0           0        0          0   \n",
       "9209            0           0              0           1        0          0   \n",
       "9215            1           0              0           0        0          0   \n",
       "9221            0           0              0           1        0          0   \n",
       "9227            1           0              0           0        0          0   \n",
       "...           ...         ...            ...         ...      ...        ...   \n",
       "18981           1           0              0           0        0          0   \n",
       "18982           0           0              0           1        0          0   \n",
       "18984           1           0              0           0        0          0   \n",
       "18985           1           0              0           0        0          0   \n",
       "18990           1           0              0           0        0          0   \n",
       "\n",
       "       Age_19-24  Age_25-34  Age_35-44  Age_45-54  ...  Month_7  Month_8  \\\n",
       "9203           0          0          0          0  ...        0        0   \n",
       "9209           0          0          0          0  ...        0        0   \n",
       "9215           0          0          0          0  ...        0        0   \n",
       "9221           0          0          0          0  ...        0        0   \n",
       "9227           0          0          0          0  ...        0        1   \n",
       "...          ...        ...        ...        ...  ...      ...      ...   \n",
       "18981          0          1          0          0  ...        0        0   \n",
       "18982          0          0          0          1  ...        0        0   \n",
       "18984          0          0          0          1  ...        0        0   \n",
       "18985          0          1          0          0  ...        0        0   \n",
       "18990          0          0          0          0  ...        0        0   \n",
       "\n",
       "       Month_9  day_of_week_Friday  day_of_week_Monday  day_of_week_Saturday  \\\n",
       "9203         0                   0                   0                     1   \n",
       "9209         0                   0                   0                     0   \n",
       "9215         0                   0                   0                     0   \n",
       "9221         0                   0                   0                     0   \n",
       "9227         0                   1                   0                     0   \n",
       "...        ...                 ...                 ...                   ...   \n",
       "18981        0                   0                   0                     0   \n",
       "18982        0                   0                   0                     1   \n",
       "18984        0                   1                   0                     0   \n",
       "18985        0                   1                   0                     0   \n",
       "18990        0                   0                   1                     0   \n",
       "\n",
       "       day_of_week_Sunday  day_of_week_Thursday  day_of_week_Tuesday  \\\n",
       "9203                    0                     0                    0   \n",
       "9209                    0                     0                    1   \n",
       "9215                    0                     1                    0   \n",
       "9221                    1                     0                    0   \n",
       "9227                    0                     0                    0   \n",
       "...                   ...                   ...                  ...   \n",
       "18981                   1                     0                    0   \n",
       "18982                   0                     0                    0   \n",
       "18984                   0                     0                    0   \n",
       "18985                   0                     0                    0   \n",
       "18990                   0                     0                    0   \n",
       "\n",
       "       day_of_week_Wednesday  \n",
       "9203                       0  \n",
       "9209                       0  \n",
       "9215                       0  \n",
       "9221                       0  \n",
       "9227                       0  \n",
       "...                      ...  \n",
       "18981                      0  \n",
       "18982                      0  \n",
       "18984                      0  \n",
       "18985                      0  \n",
       "18990                      0  \n",
       "\n",
       "[6526 rows x 34 columns]"
      ]
     },
     "execution_count": 62,
     "metadata": {},
     "output_type": "execute_result"
    }
   ],
   "source": [
    "data_encod = pd.get_dummies(data_encod)\n",
    "data_encod"
   ]
  },
  {
   "cell_type": "markdown",
   "id": "b8b58f9a",
   "metadata": {},
   "source": [
    "# Scaling : Standard Scaling"
   ]
  },
  {
   "cell_type": "code",
   "execution_count": 63,
   "id": "18d1489e",
   "metadata": {},
   "outputs": [
    {
     "data": {
      "text/html": [
       "<div>\n",
       "<style scoped>\n",
       "    .dataframe tbody tr th:only-of-type {\n",
       "        vertical-align: middle;\n",
       "    }\n",
       "\n",
       "    .dataframe tbody tr th {\n",
       "        vertical-align: top;\n",
       "    }\n",
       "\n",
       "    .dataframe thead th {\n",
       "        text-align: right;\n",
       "    }\n",
       "</style>\n",
       "<table border=\"1\" class=\"dataframe\">\n",
       "  <thead>\n",
       "    <tr style=\"text-align: right;\">\n",
       "      <th></th>\n",
       "      <th>Effectiveness</th>\n",
       "    </tr>\n",
       "  </thead>\n",
       "  <tbody>\n",
       "    <tr>\n",
       "      <th>0</th>\n",
       "      <td>0.517259</td>\n",
       "    </tr>\n",
       "    <tr>\n",
       "      <th>1</th>\n",
       "      <td>1.226128</td>\n",
       "    </tr>\n",
       "    <tr>\n",
       "      <th>2</th>\n",
       "      <td>1.226128</td>\n",
       "    </tr>\n",
       "    <tr>\n",
       "      <th>3</th>\n",
       "      <td>0.517259</td>\n",
       "    </tr>\n",
       "    <tr>\n",
       "      <th>4</th>\n",
       "      <td>-1.609348</td>\n",
       "    </tr>\n",
       "    <tr>\n",
       "      <th>...</th>\n",
       "      <td>...</td>\n",
       "    </tr>\n",
       "    <tr>\n",
       "      <th>6521</th>\n",
       "      <td>-1.609348</td>\n",
       "    </tr>\n",
       "    <tr>\n",
       "      <th>6522</th>\n",
       "      <td>-1.609348</td>\n",
       "    </tr>\n",
       "    <tr>\n",
       "      <th>6523</th>\n",
       "      <td>1.226128</td>\n",
       "    </tr>\n",
       "    <tr>\n",
       "      <th>6524</th>\n",
       "      <td>-1.609348</td>\n",
       "    </tr>\n",
       "    <tr>\n",
       "      <th>6525</th>\n",
       "      <td>-1.609348</td>\n",
       "    </tr>\n",
       "  </tbody>\n",
       "</table>\n",
       "<p>6526 rows × 1 columns</p>\n",
       "</div>"
      ],
      "text/plain": [
       "      Effectiveness\n",
       "0          0.517259\n",
       "1          1.226128\n",
       "2          1.226128\n",
       "3          0.517259\n",
       "4         -1.609348\n",
       "...             ...\n",
       "6521      -1.609348\n",
       "6522      -1.609348\n",
       "6523       1.226128\n",
       "6524      -1.609348\n",
       "6525      -1.609348\n",
       "\n",
       "[6526 rows x 1 columns]"
      ]
     },
     "execution_count": 63,
     "metadata": {},
     "output_type": "execute_result"
    }
   ],
   "source": [
    "from sklearn.preprocessing import StandardScaler\n",
    "mm = StandardScaler()\n",
    "data_num = mm.fit_transform(data_num)\n",
    "data_num = pd.DataFrame(data_num, columns = ['Effectiveness'])\n",
    "data_num"
   ]
  },
  {
   "cell_type": "code",
   "execution_count": 64,
   "id": "9fd196ce",
   "metadata": {},
   "outputs": [
    {
     "data": {
      "text/html": [
       "<div>\n",
       "<style scoped>\n",
       "    .dataframe tbody tr th:only-of-type {\n",
       "        vertical-align: middle;\n",
       "    }\n",
       "\n",
       "    .dataframe tbody tr th {\n",
       "        vertical-align: top;\n",
       "    }\n",
       "\n",
       "    .dataframe thead th {\n",
       "        text-align: right;\n",
       "    }\n",
       "</style>\n",
       "<table border=\"1\" class=\"dataframe\">\n",
       "  <thead>\n",
       "    <tr style=\"text-align: right;\">\n",
       "      <th></th>\n",
       "      <th>Race_Asian</th>\n",
       "      <th>Race_Black</th>\n",
       "      <th>Race_Hispanic</th>\n",
       "      <th>Race_White</th>\n",
       "      <th>Age_0-2</th>\n",
       "      <th>Age_13-18</th>\n",
       "      <th>Age_19-24</th>\n",
       "      <th>Age_25-34</th>\n",
       "      <th>Age_35-44</th>\n",
       "      <th>Age_45-54</th>\n",
       "      <th>...</th>\n",
       "      <th>Month_8</th>\n",
       "      <th>Month_9</th>\n",
       "      <th>day_of_week_Friday</th>\n",
       "      <th>day_of_week_Monday</th>\n",
       "      <th>day_of_week_Saturday</th>\n",
       "      <th>day_of_week_Sunday</th>\n",
       "      <th>day_of_week_Thursday</th>\n",
       "      <th>day_of_week_Tuesday</th>\n",
       "      <th>day_of_week_Wednesday</th>\n",
       "      <th>Effectiveness</th>\n",
       "    </tr>\n",
       "  </thead>\n",
       "  <tbody>\n",
       "    <tr>\n",
       "      <th>9203</th>\n",
       "      <td>0</td>\n",
       "      <td>1</td>\n",
       "      <td>0</td>\n",
       "      <td>0</td>\n",
       "      <td>0</td>\n",
       "      <td>0</td>\n",
       "      <td>0</td>\n",
       "      <td>0</td>\n",
       "      <td>0</td>\n",
       "      <td>0</td>\n",
       "      <td>...</td>\n",
       "      <td>0</td>\n",
       "      <td>0</td>\n",
       "      <td>0</td>\n",
       "      <td>0</td>\n",
       "      <td>1</td>\n",
       "      <td>0</td>\n",
       "      <td>0</td>\n",
       "      <td>0</td>\n",
       "      <td>0</td>\n",
       "      <td>0.517259</td>\n",
       "    </tr>\n",
       "    <tr>\n",
       "      <th>9209</th>\n",
       "      <td>0</td>\n",
       "      <td>0</td>\n",
       "      <td>0</td>\n",
       "      <td>1</td>\n",
       "      <td>0</td>\n",
       "      <td>0</td>\n",
       "      <td>0</td>\n",
       "      <td>0</td>\n",
       "      <td>0</td>\n",
       "      <td>0</td>\n",
       "      <td>...</td>\n",
       "      <td>0</td>\n",
       "      <td>0</td>\n",
       "      <td>0</td>\n",
       "      <td>0</td>\n",
       "      <td>0</td>\n",
       "      <td>0</td>\n",
       "      <td>0</td>\n",
       "      <td>1</td>\n",
       "      <td>0</td>\n",
       "      <td>1.226128</td>\n",
       "    </tr>\n",
       "    <tr>\n",
       "      <th>9215</th>\n",
       "      <td>1</td>\n",
       "      <td>0</td>\n",
       "      <td>0</td>\n",
       "      <td>0</td>\n",
       "      <td>0</td>\n",
       "      <td>0</td>\n",
       "      <td>0</td>\n",
       "      <td>0</td>\n",
       "      <td>0</td>\n",
       "      <td>0</td>\n",
       "      <td>...</td>\n",
       "      <td>0</td>\n",
       "      <td>0</td>\n",
       "      <td>0</td>\n",
       "      <td>0</td>\n",
       "      <td>0</td>\n",
       "      <td>0</td>\n",
       "      <td>1</td>\n",
       "      <td>0</td>\n",
       "      <td>0</td>\n",
       "      <td>1.226128</td>\n",
       "    </tr>\n",
       "    <tr>\n",
       "      <th>9221</th>\n",
       "      <td>0</td>\n",
       "      <td>0</td>\n",
       "      <td>0</td>\n",
       "      <td>1</td>\n",
       "      <td>0</td>\n",
       "      <td>0</td>\n",
       "      <td>0</td>\n",
       "      <td>0</td>\n",
       "      <td>0</td>\n",
       "      <td>0</td>\n",
       "      <td>...</td>\n",
       "      <td>0</td>\n",
       "      <td>0</td>\n",
       "      <td>0</td>\n",
       "      <td>0</td>\n",
       "      <td>0</td>\n",
       "      <td>1</td>\n",
       "      <td>0</td>\n",
       "      <td>0</td>\n",
       "      <td>0</td>\n",
       "      <td>0.517259</td>\n",
       "    </tr>\n",
       "    <tr>\n",
       "      <th>9227</th>\n",
       "      <td>1</td>\n",
       "      <td>0</td>\n",
       "      <td>0</td>\n",
       "      <td>0</td>\n",
       "      <td>0</td>\n",
       "      <td>0</td>\n",
       "      <td>0</td>\n",
       "      <td>0</td>\n",
       "      <td>0</td>\n",
       "      <td>0</td>\n",
       "      <td>...</td>\n",
       "      <td>1</td>\n",
       "      <td>0</td>\n",
       "      <td>1</td>\n",
       "      <td>0</td>\n",
       "      <td>0</td>\n",
       "      <td>0</td>\n",
       "      <td>0</td>\n",
       "      <td>0</td>\n",
       "      <td>0</td>\n",
       "      <td>-1.609348</td>\n",
       "    </tr>\n",
       "    <tr>\n",
       "      <th>...</th>\n",
       "      <td>...</td>\n",
       "      <td>...</td>\n",
       "      <td>...</td>\n",
       "      <td>...</td>\n",
       "      <td>...</td>\n",
       "      <td>...</td>\n",
       "      <td>...</td>\n",
       "      <td>...</td>\n",
       "      <td>...</td>\n",
       "      <td>...</td>\n",
       "      <td>...</td>\n",
       "      <td>...</td>\n",
       "      <td>...</td>\n",
       "      <td>...</td>\n",
       "      <td>...</td>\n",
       "      <td>...</td>\n",
       "      <td>...</td>\n",
       "      <td>...</td>\n",
       "      <td>...</td>\n",
       "      <td>...</td>\n",
       "      <td>...</td>\n",
       "    </tr>\n",
       "    <tr>\n",
       "      <th>18981</th>\n",
       "      <td>1</td>\n",
       "      <td>0</td>\n",
       "      <td>0</td>\n",
       "      <td>0</td>\n",
       "      <td>0</td>\n",
       "      <td>0</td>\n",
       "      <td>0</td>\n",
       "      <td>1</td>\n",
       "      <td>0</td>\n",
       "      <td>0</td>\n",
       "      <td>...</td>\n",
       "      <td>0</td>\n",
       "      <td>0</td>\n",
       "      <td>0</td>\n",
       "      <td>0</td>\n",
       "      <td>0</td>\n",
       "      <td>1</td>\n",
       "      <td>0</td>\n",
       "      <td>0</td>\n",
       "      <td>0</td>\n",
       "      <td>-1.609348</td>\n",
       "    </tr>\n",
       "    <tr>\n",
       "      <th>18982</th>\n",
       "      <td>0</td>\n",
       "      <td>0</td>\n",
       "      <td>0</td>\n",
       "      <td>1</td>\n",
       "      <td>0</td>\n",
       "      <td>0</td>\n",
       "      <td>0</td>\n",
       "      <td>0</td>\n",
       "      <td>0</td>\n",
       "      <td>1</td>\n",
       "      <td>...</td>\n",
       "      <td>0</td>\n",
       "      <td>0</td>\n",
       "      <td>0</td>\n",
       "      <td>0</td>\n",
       "      <td>1</td>\n",
       "      <td>0</td>\n",
       "      <td>0</td>\n",
       "      <td>0</td>\n",
       "      <td>0</td>\n",
       "      <td>-1.609348</td>\n",
       "    </tr>\n",
       "    <tr>\n",
       "      <th>18984</th>\n",
       "      <td>1</td>\n",
       "      <td>0</td>\n",
       "      <td>0</td>\n",
       "      <td>0</td>\n",
       "      <td>0</td>\n",
       "      <td>0</td>\n",
       "      <td>0</td>\n",
       "      <td>0</td>\n",
       "      <td>0</td>\n",
       "      <td>1</td>\n",
       "      <td>...</td>\n",
       "      <td>0</td>\n",
       "      <td>0</td>\n",
       "      <td>1</td>\n",
       "      <td>0</td>\n",
       "      <td>0</td>\n",
       "      <td>0</td>\n",
       "      <td>0</td>\n",
       "      <td>0</td>\n",
       "      <td>0</td>\n",
       "      <td>1.226128</td>\n",
       "    </tr>\n",
       "    <tr>\n",
       "      <th>18985</th>\n",
       "      <td>1</td>\n",
       "      <td>0</td>\n",
       "      <td>0</td>\n",
       "      <td>0</td>\n",
       "      <td>0</td>\n",
       "      <td>0</td>\n",
       "      <td>0</td>\n",
       "      <td>1</td>\n",
       "      <td>0</td>\n",
       "      <td>0</td>\n",
       "      <td>...</td>\n",
       "      <td>0</td>\n",
       "      <td>0</td>\n",
       "      <td>1</td>\n",
       "      <td>0</td>\n",
       "      <td>0</td>\n",
       "      <td>0</td>\n",
       "      <td>0</td>\n",
       "      <td>0</td>\n",
       "      <td>0</td>\n",
       "      <td>-1.609348</td>\n",
       "    </tr>\n",
       "    <tr>\n",
       "      <th>18990</th>\n",
       "      <td>1</td>\n",
       "      <td>0</td>\n",
       "      <td>0</td>\n",
       "      <td>0</td>\n",
       "      <td>0</td>\n",
       "      <td>0</td>\n",
       "      <td>0</td>\n",
       "      <td>0</td>\n",
       "      <td>0</td>\n",
       "      <td>0</td>\n",
       "      <td>...</td>\n",
       "      <td>0</td>\n",
       "      <td>0</td>\n",
       "      <td>0</td>\n",
       "      <td>1</td>\n",
       "      <td>0</td>\n",
       "      <td>0</td>\n",
       "      <td>0</td>\n",
       "      <td>0</td>\n",
       "      <td>0</td>\n",
       "      <td>-1.609348</td>\n",
       "    </tr>\n",
       "  </tbody>\n",
       "</table>\n",
       "<p>6526 rows × 35 columns</p>\n",
       "</div>"
      ],
      "text/plain": [
       "       Race_Asian  Race_Black  Race_Hispanic  Race_White  Age_0-2  Age_13-18  \\\n",
       "9203            0           1              0           0        0          0   \n",
       "9209            0           0              0           1        0          0   \n",
       "9215            1           0              0           0        0          0   \n",
       "9221            0           0              0           1        0          0   \n",
       "9227            1           0              0           0        0          0   \n",
       "...           ...         ...            ...         ...      ...        ...   \n",
       "18981           1           0              0           0        0          0   \n",
       "18982           0           0              0           1        0          0   \n",
       "18984           1           0              0           0        0          0   \n",
       "18985           1           0              0           0        0          0   \n",
       "18990           1           0              0           0        0          0   \n",
       "\n",
       "       Age_19-24  Age_25-34  Age_35-44  Age_45-54  ...  Month_8  Month_9  \\\n",
       "9203           0          0          0          0  ...        0        0   \n",
       "9209           0          0          0          0  ...        0        0   \n",
       "9215           0          0          0          0  ...        0        0   \n",
       "9221           0          0          0          0  ...        0        0   \n",
       "9227           0          0          0          0  ...        1        0   \n",
       "...          ...        ...        ...        ...  ...      ...      ...   \n",
       "18981          0          1          0          0  ...        0        0   \n",
       "18982          0          0          0          1  ...        0        0   \n",
       "18984          0          0          0          1  ...        0        0   \n",
       "18985          0          1          0          0  ...        0        0   \n",
       "18990          0          0          0          0  ...        0        0   \n",
       "\n",
       "       day_of_week_Friday  day_of_week_Monday  day_of_week_Saturday  \\\n",
       "9203                    0                   0                     1   \n",
       "9209                    0                   0                     0   \n",
       "9215                    0                   0                     0   \n",
       "9221                    0                   0                     0   \n",
       "9227                    1                   0                     0   \n",
       "...                   ...                 ...                   ...   \n",
       "18981                   0                   0                     0   \n",
       "18982                   0                   0                     1   \n",
       "18984                   1                   0                     0   \n",
       "18985                   1                   0                     0   \n",
       "18990                   0                   1                     0   \n",
       "\n",
       "       day_of_week_Sunday  day_of_week_Thursday  day_of_week_Tuesday  \\\n",
       "9203                    0                     0                    0   \n",
       "9209                    0                     0                    1   \n",
       "9215                    0                     1                    0   \n",
       "9221                    1                     0                    0   \n",
       "9227                    0                     0                    0   \n",
       "...                   ...                   ...                  ...   \n",
       "18981                   1                     0                    0   \n",
       "18982                   0                     0                    0   \n",
       "18984                   0                     0                    0   \n",
       "18985                   0                     0                    0   \n",
       "18990                   0                     0                    0   \n",
       "\n",
       "       day_of_week_Wednesday  Effectiveness  \n",
       "9203                       0       0.517259  \n",
       "9209                       0       1.226128  \n",
       "9215                       0       1.226128  \n",
       "9221                       0       0.517259  \n",
       "9227                       0      -1.609348  \n",
       "...                      ...            ...  \n",
       "18981                      0      -1.609348  \n",
       "18982                      0      -1.609348  \n",
       "18984                      0       1.226128  \n",
       "18985                      0      -1.609348  \n",
       "18990                      0      -1.609348  \n",
       "\n",
       "[6526 rows x 35 columns]"
      ]
     },
     "execution_count": 64,
     "metadata": {},
     "output_type": "execute_result"
    }
   ],
   "source": [
    "data3 = data_encod\n",
    "data3['Effectiveness'] = data_num.values\n",
    "data3"
   ]
  },
  {
   "cell_type": "markdown",
   "id": "df9a1137",
   "metadata": {},
   "source": [
    "So finally what I suppose is the following features which are race, age, review rank and effectiveness can form the dataset which will predict the sideeffect of the user."
   ]
  },
  {
   "cell_type": "code",
   "execution_count": 65,
   "id": "914eac17",
   "metadata": {},
   "outputs": [
    {
     "data": {
      "text/html": [
       "<div>\n",
       "<style scoped>\n",
       "    .dataframe tbody tr th:only-of-type {\n",
       "        vertical-align: middle;\n",
       "    }\n",
       "\n",
       "    .dataframe tbody tr th {\n",
       "        vertical-align: top;\n",
       "    }\n",
       "\n",
       "    .dataframe thead th {\n",
       "        text-align: right;\n",
       "    }\n",
       "</style>\n",
       "<table border=\"1\" class=\"dataframe\">\n",
       "  <thead>\n",
       "    <tr style=\"text-align: right;\">\n",
       "      <th></th>\n",
       "      <th>Race_Asian</th>\n",
       "      <th>Race_Black</th>\n",
       "      <th>Race_Hispanic</th>\n",
       "      <th>Race_White</th>\n",
       "      <th>Age_0-2</th>\n",
       "      <th>Age_13-18</th>\n",
       "      <th>Age_19-24</th>\n",
       "      <th>Age_25-34</th>\n",
       "      <th>Age_35-44</th>\n",
       "      <th>Age_45-54</th>\n",
       "      <th>...</th>\n",
       "      <th>day_of_week_Monday</th>\n",
       "      <th>day_of_week_Saturday</th>\n",
       "      <th>day_of_week_Sunday</th>\n",
       "      <th>day_of_week_Thursday</th>\n",
       "      <th>day_of_week_Tuesday</th>\n",
       "      <th>day_of_week_Wednesday</th>\n",
       "      <th>Effectiveness</th>\n",
       "      <th>Reviews_Rank</th>\n",
       "      <th>UsefulCount_boxcox</th>\n",
       "      <th>EaseofUse_boxcox</th>\n",
       "    </tr>\n",
       "  </thead>\n",
       "  <tbody>\n",
       "    <tr>\n",
       "      <th>9203</th>\n",
       "      <td>0</td>\n",
       "      <td>1</td>\n",
       "      <td>0</td>\n",
       "      <td>0</td>\n",
       "      <td>0</td>\n",
       "      <td>0</td>\n",
       "      <td>0</td>\n",
       "      <td>0</td>\n",
       "      <td>0</td>\n",
       "      <td>0</td>\n",
       "      <td>...</td>\n",
       "      <td>0</td>\n",
       "      <td>1</td>\n",
       "      <td>0</td>\n",
       "      <td>0</td>\n",
       "      <td>0</td>\n",
       "      <td>0</td>\n",
       "      <td>0.517259</td>\n",
       "      <td>1.0</td>\n",
       "      <td>-0.835439</td>\n",
       "      <td>0.943255</td>\n",
       "    </tr>\n",
       "    <tr>\n",
       "      <th>9209</th>\n",
       "      <td>0</td>\n",
       "      <td>0</td>\n",
       "      <td>0</td>\n",
       "      <td>1</td>\n",
       "      <td>0</td>\n",
       "      <td>0</td>\n",
       "      <td>0</td>\n",
       "      <td>0</td>\n",
       "      <td>0</td>\n",
       "      <td>0</td>\n",
       "      <td>...</td>\n",
       "      <td>0</td>\n",
       "      <td>0</td>\n",
       "      <td>0</td>\n",
       "      <td>0</td>\n",
       "      <td>1</td>\n",
       "      <td>0</td>\n",
       "      <td>1.226128</td>\n",
       "      <td>1.0</td>\n",
       "      <td>-0.835439</td>\n",
       "      <td>-0.231105</td>\n",
       "    </tr>\n",
       "    <tr>\n",
       "      <th>9215</th>\n",
       "      <td>1</td>\n",
       "      <td>0</td>\n",
       "      <td>0</td>\n",
       "      <td>0</td>\n",
       "      <td>0</td>\n",
       "      <td>0</td>\n",
       "      <td>0</td>\n",
       "      <td>0</td>\n",
       "      <td>0</td>\n",
       "      <td>0</td>\n",
       "      <td>...</td>\n",
       "      <td>0</td>\n",
       "      <td>0</td>\n",
       "      <td>0</td>\n",
       "      <td>1</td>\n",
       "      <td>0</td>\n",
       "      <td>0</td>\n",
       "      <td>1.226128</td>\n",
       "      <td>1.0</td>\n",
       "      <td>-0.102133</td>\n",
       "      <td>0.943255</td>\n",
       "    </tr>\n",
       "    <tr>\n",
       "      <th>9221</th>\n",
       "      <td>0</td>\n",
       "      <td>0</td>\n",
       "      <td>0</td>\n",
       "      <td>1</td>\n",
       "      <td>0</td>\n",
       "      <td>0</td>\n",
       "      <td>0</td>\n",
       "      <td>0</td>\n",
       "      <td>0</td>\n",
       "      <td>0</td>\n",
       "      <td>...</td>\n",
       "      <td>0</td>\n",
       "      <td>0</td>\n",
       "      <td>1</td>\n",
       "      <td>0</td>\n",
       "      <td>0</td>\n",
       "      <td>0</td>\n",
       "      <td>0.517259</td>\n",
       "      <td>0.0</td>\n",
       "      <td>0.918562</td>\n",
       "      <td>-1.480793</td>\n",
       "    </tr>\n",
       "    <tr>\n",
       "      <th>9227</th>\n",
       "      <td>1</td>\n",
       "      <td>0</td>\n",
       "      <td>0</td>\n",
       "      <td>0</td>\n",
       "      <td>0</td>\n",
       "      <td>0</td>\n",
       "      <td>0</td>\n",
       "      <td>0</td>\n",
       "      <td>0</td>\n",
       "      <td>0</td>\n",
       "      <td>...</td>\n",
       "      <td>0</td>\n",
       "      <td>0</td>\n",
       "      <td>0</td>\n",
       "      <td>0</td>\n",
       "      <td>0</td>\n",
       "      <td>0</td>\n",
       "      <td>-1.609348</td>\n",
       "      <td>0.0</td>\n",
       "      <td>1.837785</td>\n",
       "      <td>-1.004962</td>\n",
       "    </tr>\n",
       "    <tr>\n",
       "      <th>...</th>\n",
       "      <td>...</td>\n",
       "      <td>...</td>\n",
       "      <td>...</td>\n",
       "      <td>...</td>\n",
       "      <td>...</td>\n",
       "      <td>...</td>\n",
       "      <td>...</td>\n",
       "      <td>...</td>\n",
       "      <td>...</td>\n",
       "      <td>...</td>\n",
       "      <td>...</td>\n",
       "      <td>...</td>\n",
       "      <td>...</td>\n",
       "      <td>...</td>\n",
       "      <td>...</td>\n",
       "      <td>...</td>\n",
       "      <td>...</td>\n",
       "      <td>...</td>\n",
       "      <td>...</td>\n",
       "      <td>...</td>\n",
       "      <td>...</td>\n",
       "    </tr>\n",
       "    <tr>\n",
       "      <th>18981</th>\n",
       "      <td>1</td>\n",
       "      <td>0</td>\n",
       "      <td>0</td>\n",
       "      <td>0</td>\n",
       "      <td>0</td>\n",
       "      <td>0</td>\n",
       "      <td>0</td>\n",
       "      <td>1</td>\n",
       "      <td>0</td>\n",
       "      <td>0</td>\n",
       "      <td>...</td>\n",
       "      <td>0</td>\n",
       "      <td>0</td>\n",
       "      <td>1</td>\n",
       "      <td>0</td>\n",
       "      <td>0</td>\n",
       "      <td>0</td>\n",
       "      <td>-1.609348</td>\n",
       "      <td>0.0</td>\n",
       "      <td>1.551731</td>\n",
       "      <td>-1.480793</td>\n",
       "    </tr>\n",
       "    <tr>\n",
       "      <th>18982</th>\n",
       "      <td>0</td>\n",
       "      <td>0</td>\n",
       "      <td>0</td>\n",
       "      <td>1</td>\n",
       "      <td>0</td>\n",
       "      <td>0</td>\n",
       "      <td>0</td>\n",
       "      <td>0</td>\n",
       "      <td>0</td>\n",
       "      <td>1</td>\n",
       "      <td>...</td>\n",
       "      <td>0</td>\n",
       "      <td>1</td>\n",
       "      <td>0</td>\n",
       "      <td>0</td>\n",
       "      <td>0</td>\n",
       "      <td>0</td>\n",
       "      <td>-1.609348</td>\n",
       "      <td>0.0</td>\n",
       "      <td>0.918562</td>\n",
       "      <td>0.943255</td>\n",
       "    </tr>\n",
       "    <tr>\n",
       "      <th>18984</th>\n",
       "      <td>1</td>\n",
       "      <td>0</td>\n",
       "      <td>0</td>\n",
       "      <td>0</td>\n",
       "      <td>0</td>\n",
       "      <td>0</td>\n",
       "      <td>0</td>\n",
       "      <td>0</td>\n",
       "      <td>0</td>\n",
       "      <td>1</td>\n",
       "      <td>...</td>\n",
       "      <td>0</td>\n",
       "      <td>0</td>\n",
       "      <td>0</td>\n",
       "      <td>0</td>\n",
       "      <td>0</td>\n",
       "      <td>0</td>\n",
       "      <td>1.226128</td>\n",
       "      <td>1.0</td>\n",
       "      <td>-0.835439</td>\n",
       "      <td>0.943255</td>\n",
       "    </tr>\n",
       "    <tr>\n",
       "      <th>18985</th>\n",
       "      <td>1</td>\n",
       "      <td>0</td>\n",
       "      <td>0</td>\n",
       "      <td>0</td>\n",
       "      <td>0</td>\n",
       "      <td>0</td>\n",
       "      <td>0</td>\n",
       "      <td>1</td>\n",
       "      <td>0</td>\n",
       "      <td>0</td>\n",
       "      <td>...</td>\n",
       "      <td>0</td>\n",
       "      <td>0</td>\n",
       "      <td>0</td>\n",
       "      <td>0</td>\n",
       "      <td>0</td>\n",
       "      <td>0</td>\n",
       "      <td>-1.609348</td>\n",
       "      <td>0.0</td>\n",
       "      <td>0.631664</td>\n",
       "      <td>-1.746405</td>\n",
       "    </tr>\n",
       "    <tr>\n",
       "      <th>18990</th>\n",
       "      <td>1</td>\n",
       "      <td>0</td>\n",
       "      <td>0</td>\n",
       "      <td>0</td>\n",
       "      <td>0</td>\n",
       "      <td>0</td>\n",
       "      <td>0</td>\n",
       "      <td>0</td>\n",
       "      <td>0</td>\n",
       "      <td>0</td>\n",
       "      <td>...</td>\n",
       "      <td>1</td>\n",
       "      <td>0</td>\n",
       "      <td>0</td>\n",
       "      <td>0</td>\n",
       "      <td>0</td>\n",
       "      <td>0</td>\n",
       "      <td>-1.609348</td>\n",
       "      <td>0.0</td>\n",
       "      <td>1.951718</td>\n",
       "      <td>-1.746405</td>\n",
       "    </tr>\n",
       "  </tbody>\n",
       "</table>\n",
       "<p>6526 rows × 38 columns</p>\n",
       "</div>"
      ],
      "text/plain": [
       "       Race_Asian  Race_Black  Race_Hispanic  Race_White  Age_0-2  Age_13-18  \\\n",
       "9203            0           1              0           0        0          0   \n",
       "9209            0           0              0           1        0          0   \n",
       "9215            1           0              0           0        0          0   \n",
       "9221            0           0              0           1        0          0   \n",
       "9227            1           0              0           0        0          0   \n",
       "...           ...         ...            ...         ...      ...        ...   \n",
       "18981           1           0              0           0        0          0   \n",
       "18982           0           0              0           1        0          0   \n",
       "18984           1           0              0           0        0          0   \n",
       "18985           1           0              0           0        0          0   \n",
       "18990           1           0              0           0        0          0   \n",
       "\n",
       "       Age_19-24  Age_25-34  Age_35-44  Age_45-54  ...  day_of_week_Monday  \\\n",
       "9203           0          0          0          0  ...                   0   \n",
       "9209           0          0          0          0  ...                   0   \n",
       "9215           0          0          0          0  ...                   0   \n",
       "9221           0          0          0          0  ...                   0   \n",
       "9227           0          0          0          0  ...                   0   \n",
       "...          ...        ...        ...        ...  ...                 ...   \n",
       "18981          0          1          0          0  ...                   0   \n",
       "18982          0          0          0          1  ...                   0   \n",
       "18984          0          0          0          1  ...                   0   \n",
       "18985          0          1          0          0  ...                   0   \n",
       "18990          0          0          0          0  ...                   1   \n",
       "\n",
       "       day_of_week_Saturday  day_of_week_Sunday  day_of_week_Thursday  \\\n",
       "9203                      1                   0                     0   \n",
       "9209                      0                   0                     0   \n",
       "9215                      0                   0                     1   \n",
       "9221                      0                   1                     0   \n",
       "9227                      0                   0                     0   \n",
       "...                     ...                 ...                   ...   \n",
       "18981                     0                   1                     0   \n",
       "18982                     1                   0                     0   \n",
       "18984                     0                   0                     0   \n",
       "18985                     0                   0                     0   \n",
       "18990                     0                   0                     0   \n",
       "\n",
       "       day_of_week_Tuesday  day_of_week_Wednesday  Effectiveness  \\\n",
       "9203                     0                      0       0.517259   \n",
       "9209                     1                      0       1.226128   \n",
       "9215                     0                      0       1.226128   \n",
       "9221                     0                      0       0.517259   \n",
       "9227                     0                      0      -1.609348   \n",
       "...                    ...                    ...            ...   \n",
       "18981                    0                      0      -1.609348   \n",
       "18982                    0                      0      -1.609348   \n",
       "18984                    0                      0       1.226128   \n",
       "18985                    0                      0      -1.609348   \n",
       "18990                    0                      0      -1.609348   \n",
       "\n",
       "       Reviews_Rank  UsefulCount_boxcox  EaseofUse_boxcox  \n",
       "9203            1.0           -0.835439          0.943255  \n",
       "9209            1.0           -0.835439         -0.231105  \n",
       "9215            1.0           -0.102133          0.943255  \n",
       "9221            0.0            0.918562         -1.480793  \n",
       "9227            0.0            1.837785         -1.004962  \n",
       "...             ...                 ...               ...  \n",
       "18981           0.0            1.551731         -1.480793  \n",
       "18982           0.0            0.918562          0.943255  \n",
       "18984           1.0           -0.835439          0.943255  \n",
       "18985           0.0            0.631664         -1.746405  \n",
       "18990           0.0            1.951718         -1.746405  \n",
       "\n",
       "[6526 rows x 38 columns]"
      ]
     },
     "execution_count": 65,
     "metadata": {},
     "output_type": "execute_result"
    }
   ],
   "source": [
    "data3 = data_encod\n",
    "data3['Effectiveness'] = data_num.values\n",
    "data3['Reviews_Rank'] = data2.Reviews_Rank\n",
    "data3['UsefulCount_boxcox'] = data_Usefulcount1\n",
    "data3['EaseofUse_boxcox'] = data_EaseofUse1\n",
    "data3"
   ]
  },
  {
   "cell_type": "markdown",
   "id": "874f2045",
   "metadata": {},
   "source": [
    "# data3 forms our final dataset"
   ]
  },
  {
   "cell_type": "code",
   "execution_count": 66,
   "id": "efa34eb4",
   "metadata": {},
   "outputs": [
    {
     "data": {
      "text/html": [
       "<div>\n",
       "<style scoped>\n",
       "    .dataframe tbody tr th:only-of-type {\n",
       "        vertical-align: middle;\n",
       "    }\n",
       "\n",
       "    .dataframe tbody tr th {\n",
       "        vertical-align: top;\n",
       "    }\n",
       "\n",
       "    .dataframe thead th {\n",
       "        text-align: right;\n",
       "    }\n",
       "</style>\n",
       "<table border=\"1\" class=\"dataframe\">\n",
       "  <thead>\n",
       "    <tr style=\"text-align: right;\">\n",
       "      <th></th>\n",
       "      <th>Sideeffect</th>\n",
       "    </tr>\n",
       "  </thead>\n",
       "  <tbody>\n",
       "    <tr>\n",
       "      <th>9203</th>\n",
       "      <td>2</td>\n",
       "    </tr>\n",
       "    <tr>\n",
       "      <th>9209</th>\n",
       "      <td>2</td>\n",
       "    </tr>\n",
       "    <tr>\n",
       "      <th>9215</th>\n",
       "      <td>1</td>\n",
       "    </tr>\n",
       "    <tr>\n",
       "      <th>9221</th>\n",
       "      <td>4</td>\n",
       "    </tr>\n",
       "    <tr>\n",
       "      <th>9227</th>\n",
       "      <td>5</td>\n",
       "    </tr>\n",
       "    <tr>\n",
       "      <th>...</th>\n",
       "      <td>...</td>\n",
       "    </tr>\n",
       "    <tr>\n",
       "      <th>18981</th>\n",
       "      <td>5</td>\n",
       "    </tr>\n",
       "    <tr>\n",
       "      <th>18982</th>\n",
       "      <td>5</td>\n",
       "    </tr>\n",
       "    <tr>\n",
       "      <th>18984</th>\n",
       "      <td>2</td>\n",
       "    </tr>\n",
       "    <tr>\n",
       "      <th>18985</th>\n",
       "      <td>5</td>\n",
       "    </tr>\n",
       "    <tr>\n",
       "      <th>18990</th>\n",
       "      <td>5</td>\n",
       "    </tr>\n",
       "  </tbody>\n",
       "</table>\n",
       "<p>6526 rows × 1 columns</p>\n",
       "</div>"
      ],
      "text/plain": [
       "       Sideeffect\n",
       "9203            2\n",
       "9209            2\n",
       "9215            1\n",
       "9221            4\n",
       "9227            5\n",
       "...           ...\n",
       "18981           5\n",
       "18982           5\n",
       "18984           2\n",
       "18985           5\n",
       "18990           5\n",
       "\n",
       "[6526 rows x 1 columns]"
      ]
     },
     "execution_count": 66,
     "metadata": {},
     "output_type": "execute_result"
    }
   ],
   "source": [
    "data4 = pd.DataFrame(data2['Sideeffect'])\n",
    "data4"
   ]
  },
  {
   "cell_type": "markdown",
   "id": "524fba86",
   "metadata": {},
   "source": [
    "# data4 forms target"
   ]
  },
  {
   "cell_type": "code",
   "execution_count": 67,
   "id": "7b69e393",
   "metadata": {},
   "outputs": [],
   "source": [
    "from sklearn.model_selection import train_test_split\n",
    "X_train, X_test, Y_train, Y_test = train_test_split(data3,data4,test_size=0.25, random_state = 42, stratify=data4)"
   ]
  },
  {
   "cell_type": "markdown",
   "id": "e61b640e",
   "metadata": {},
   "source": [
    "# Log Regression"
   ]
  },
  {
   "cell_type": "code",
   "execution_count": 68,
   "id": "d2b3c205",
   "metadata": {},
   "outputs": [
    {
     "name": "stdout",
     "output_type": "stream",
     "text": [
      "[[241  34   1   0   0]\n",
      " [ 49 132  21   0   0]\n",
      " [ 19  39  88  14  99]\n",
      " [  0   0  27  13 170]\n",
      " [  0   0  19  37 629]]\n",
      "0.6758578431372549\n",
      "              precision    recall  f1-score   support\n",
      "\n",
      "           1       0.78      0.87      0.82       276\n",
      "           2       0.64      0.65      0.65       202\n",
      "           3       0.56      0.34      0.42       259\n",
      "           4       0.20      0.06      0.09       210\n",
      "           5       0.70      0.92      0.79       685\n",
      "\n",
      "    accuracy                           0.68      1632\n",
      "   macro avg       0.58      0.57      0.56      1632\n",
      "weighted avg       0.62      0.68      0.63      1632\n",
      "\n"
     ]
    }
   ],
   "source": [
    "#log regression\n",
    "from sklearn.linear_model import LogisticRegression\n",
    "log_reg=LogisticRegression()\n",
    "# solver='lbfgs',max_iter=10000\n",
    "model1 = log_reg.fit(X_train,Y_train)\n",
    "Y_pred_logreg = model1.predict(X_test)\n",
    "\n",
    "#metrics\n",
    "from sklearn.metrics import confusion_matrix, precision_score, recall_score, f1_score, accuracy_score\n",
    "print(confusion_matrix(Y_test,Y_pred_logreg))\n",
    "print(accuracy_score(Y_test,Y_pred_logreg))\n",
    "\n",
    "#CLassification Report\n",
    "from sklearn.metrics import classification_report\n",
    "report = classification_report(Y_test,Y_pred_logreg)\n",
    "print(report)"
   ]
  },
  {
   "cell_type": "markdown",
   "id": "19c571b1",
   "metadata": {},
   "source": [
    "# SVM Polynomial"
   ]
  },
  {
   "cell_type": "code",
   "execution_count": 69,
   "id": "43054eb5",
   "metadata": {},
   "outputs": [
    {
     "name": "stdout",
     "output_type": "stream",
     "text": [
      "[[229  41   6   0   0]\n",
      " [ 36 149  17   0   0]\n",
      " [ 14  18 121  22  84]\n",
      " [  0   0  13  50 147]\n",
      " [  0   0  14  13 658]]\n",
      "0.7395833333333334\n",
      "              precision    recall  f1-score   support\n",
      "\n",
      "           1       0.82      0.83      0.83       276\n",
      "           2       0.72      0.74      0.73       202\n",
      "           3       0.71      0.47      0.56       259\n",
      "           4       0.59      0.24      0.34       210\n",
      "           5       0.74      0.96      0.84       685\n",
      "\n",
      "    accuracy                           0.74      1632\n",
      "   macro avg       0.71      0.65      0.66      1632\n",
      "weighted avg       0.73      0.74      0.71      1632\n",
      "\n"
     ]
    }
   ],
   "source": [
    "#SVM polynomial\n",
    "from sklearn.svm import SVC\n",
    "svm_clf_p = SVC(kernel='poly', degree = 4, probability=True)\n",
    "svm_model = svm_clf_p.fit(X_train, Y_train)\n",
    "y_pred_svmp = svm_clf_p.predict(X_test)\n",
    "# metrics\n",
    "print(confusion_matrix(Y_test, y_pred_svmp))\n",
    "print(accuracy_score(Y_test, y_pred_svmp))\n",
    "\n",
    "#CLassification Report\n",
    "from sklearn.metrics import classification_report\n",
    "report = classification_report(Y_test,y_pred_svmp)\n",
    "print(report)"
   ]
  },
  {
   "cell_type": "markdown",
   "id": "66daf351",
   "metadata": {},
   "source": [
    "# SVM RBF"
   ]
  },
  {
   "cell_type": "code",
   "execution_count": 70,
   "id": "eb444084",
   "metadata": {},
   "outputs": [
    {
     "name": "stdout",
     "output_type": "stream",
     "text": [
      "[[235  39   2   0   0]\n",
      " [ 36 153  13   0   0]\n",
      " [ 17  41  96  18  87]\n",
      " [  0   0  22  32 156]\n",
      " [  0   0  13  13 659]]\n",
      "0.7199754901960784\n",
      "              precision    recall  f1-score   support\n",
      "\n",
      "           1       0.82      0.85      0.83       276\n",
      "           2       0.66      0.76      0.70       202\n",
      "           3       0.66      0.37      0.47       259\n",
      "           4       0.51      0.15      0.23       210\n",
      "           5       0.73      0.96      0.83       685\n",
      "\n",
      "    accuracy                           0.72      1632\n",
      "   macro avg       0.67      0.62      0.62      1632\n",
      "weighted avg       0.70      0.72      0.68      1632\n",
      "\n"
     ]
    }
   ],
   "source": [
    "#svm rbf\n",
    "from sklearn.svm import SVC\n",
    "svm_clf_r = SVC(kernel='rbf', degree = 4, probability=True)\n",
    "svm_model = svm_clf_r.fit(X_train, Y_train)\n",
    "y_pred_svmr = svm_clf_r.predict(X_test)\n",
    "# metrics\n",
    "print(confusion_matrix(Y_test, y_pred_svmr))\n",
    "print(accuracy_score(Y_test, y_pred_svmr))\n",
    "\n",
    "#CLassification Report\n",
    "from sklearn.metrics import classification_report\n",
    "report = classification_report(Y_test,y_pred_svmr)\n",
    "print(report)"
   ]
  },
  {
   "cell_type": "markdown",
   "id": "fc16de86",
   "metadata": {},
   "source": [
    "# kNN"
   ]
  },
  {
   "cell_type": "code",
   "execution_count": 71,
   "id": "5ffe018b",
   "metadata": {},
   "outputs": [
    {
     "data": {
      "image/png": "[encoded data removed]",
      "text/plain": [
       "<Figure size 640x480 with 1 Axes>"
      ]
     },
     "metadata": {},
     "output_type": "display_data"
    }
   ],
   "source": [
    "#knn\n",
    "from sklearn.neighbors import KNeighborsClassifier\n",
    "metric_k = []\n",
    "neighbours = np.arange(3,15)\n",
    "\n",
    "for k in neighbours:\n",
    "        knn = KNeighborsClassifier(n_neighbors=k)\n",
    "        model2 = knn.fit(X_train, Y_train)\n",
    "        Y_pred_knn = model2.predict(X_test)\n",
    "        acc=accuracy_score(Y_test,Y_pred_knn)\n",
    "        metric_k.append(acc)\n",
    "        \n",
    "plt.plot(neighbours,metric_k,'*-')\n",
    "plt.xlabel('k value')\n",
    "plt.ylabel('accuracy')\n",
    "plt.grid()"
   ]
  },
  {
   "cell_type": "code",
   "execution_count": 72,
   "id": "4402aeb8",
   "metadata": {},
   "outputs": [
    {
     "name": "stdout",
     "output_type": "stream",
     "text": [
      "[[243  28   3   0   2]\n",
      " [ 92  90  11   2   7]\n",
      " [ 47  41  79  31  61]\n",
      " [  9   2  29  60 110]\n",
      " [ 16   5  38  57 569]]\n",
      "0.6378676470588235\n",
      "              precision    recall  f1-score   support\n",
      "\n",
      "           1       0.60      0.88      0.71       276\n",
      "           2       0.54      0.45      0.49       202\n",
      "           3       0.49      0.31      0.38       259\n",
      "           4       0.40      0.29      0.33       210\n",
      "           5       0.76      0.83      0.79       685\n",
      "\n",
      "    accuracy                           0.64      1632\n",
      "   macro avg       0.56      0.55      0.54      1632\n",
      "weighted avg       0.62      0.64      0.62      1632\n",
      "\n"
     ]
    }
   ],
   "source": [
    "knn = KNeighborsClassifier(n_neighbors=11)\n",
    "model2 = knn.fit(X_train, Y_train)\n",
    "Y_pred_knn = model2.predict(X_test)\n",
    "# metrics\n",
    "print(confusion_matrix(Y_test,Y_pred_knn))\n",
    "print(accuracy_score(Y_test,Y_pred_knn))\n",
    "\n",
    "\n",
    "#CLassification Report\n",
    "from sklearn.metrics import classification_report\n",
    "report = classification_report(Y_test,Y_pred_knn)\n",
    "print(report)"
   ]
  },
  {
   "cell_type": "markdown",
   "id": "4078ef29",
   "metadata": {},
   "source": [
    "# Decision Tree"
   ]
  },
  {
   "cell_type": "code",
   "execution_count": 73,
   "id": "b69fb5ed",
   "metadata": {},
   "outputs": [
    {
     "name": "stdout",
     "output_type": "stream",
     "text": [
      "[[227  39  10   0   0]\n",
      " [ 27 152  23   0   0]\n",
      " [  8  15 190  24  22]\n",
      " [  0   0  22 136  52]\n",
      " [  0   0  37  67 581]]\n",
      "0.7879901960784313\n",
      "              precision    recall  f1-score   support\n",
      "\n",
      "           1       0.87      0.82      0.84       276\n",
      "           2       0.74      0.75      0.75       202\n",
      "           3       0.67      0.73      0.70       259\n",
      "           4       0.60      0.65      0.62       210\n",
      "           5       0.89      0.85      0.87       685\n",
      "\n",
      "    accuracy                           0.79      1632\n",
      "   macro avg       0.75      0.76      0.76      1632\n",
      "weighted avg       0.79      0.79      0.79      1632\n",
      "\n"
     ]
    }
   ],
   "source": [
    "#decision tree\n",
    "from sklearn.tree import DecisionTreeClassifier\n",
    "dtm_clf = DecisionTreeClassifier(random_state = 42)\n",
    "dtm_clf.fit(X_train, Y_train)\n",
    "y_pred_dtm = dtm_clf.predict(X_test)\n",
    "# metrics\n",
    "print(confusion_matrix(Y_test, y_pred_dtm))\n",
    "print(accuracy_score(Y_test, y_pred_dtm))\n",
    "\n",
    "#CLassification Report\n",
    "from sklearn.metrics import classification_report\n",
    "report = classification_report(Y_test,y_pred_dtm)\n",
    "print(report)"
   ]
  },
  {
   "cell_type": "markdown",
   "id": "e8358803",
   "metadata": {},
   "source": [
    "# Random forest"
   ]
  },
  {
   "cell_type": "code",
   "execution_count": 74,
   "id": "64791a68",
   "metadata": {},
   "outputs": [
    {
     "name": "stdout",
     "output_type": "stream",
     "text": [
      "[[256  19   1   0   0]\n",
      " [ 30 159  13   0   0]\n",
      " [ 10  19 183  14  33]\n",
      " [  0   0  15 137  58]\n",
      " [  0   0  16  13 656]]\n",
      "0.852328431372549\n",
      "              precision    recall  f1-score   support\n",
      "\n",
      "           1       0.86      0.93      0.90       276\n",
      "           2       0.81      0.79      0.80       202\n",
      "           3       0.80      0.71      0.75       259\n",
      "           4       0.84      0.65      0.73       210\n",
      "           5       0.88      0.96      0.92       685\n",
      "\n",
      "    accuracy                           0.85      1632\n",
      "   macro avg       0.84      0.81      0.82      1632\n",
      "weighted avg       0.85      0.85      0.85      1632\n",
      "\n"
     ]
    }
   ],
   "source": [
    "#random forest model\n",
    "from sklearn.ensemble import RandomForestClassifier\n",
    "rfm_clf = RandomForestClassifier(random_state = 42)\n",
    "rfm_clf.fit(X_train, Y_train)\n",
    "y_pred_rfm = rfm_clf.predict(X_test)\n",
    "# metrics\n",
    "print(confusion_matrix(Y_test, y_pred_rfm))\n",
    "print(accuracy_score(Y_test, y_pred_rfm))\n",
    "\n",
    "\n",
    "#CLassification Report\n",
    "from sklearn.metrics import classification_report\n",
    "report = classification_report(Y_test,y_pred_rfm)\n",
    "print(report)"
   ]
  },
  {
   "cell_type": "markdown",
   "id": "e8641b7e",
   "metadata": {},
   "source": [
    "# HyperTuning Parameters"
   ]
  },
  {
   "cell_type": "code",
   "execution_count": 75,
   "id": "f604572c",
   "metadata": {},
   "outputs": [
    {
     "name": "stdout",
     "output_type": "stream",
     "text": [
      "Fitting 3 folds for each of 2700 candidates, totalling 8100 fits\n"
     ]
    }
   ],
   "source": [
    "from sklearn.model_selection import GridSearchCV\n",
    "\n",
    "params = {'n_estimators': [1, 10, 100], 'criterion': ['gini', 'entropy'], 'min_samples_leaf' : list(range(25, 100)), 'min_samples_split': [2, 3, 4], 'max_features': ['auto','log2']}\n",
    "rfc_tuned = RandomForestClassifier()\n",
    "model_tuning_RF = GridSearchCV(rfc_tuned, param_grid=params, verbose=1, cv=3, scoring = 'recall')\n",
    "grid_rf_metrics = model_tuning_RF.fit(X_train, Y_train)"
   ]
  },
  {
   "cell_type": "code",
   "execution_count": 76,
   "id": "1b1b42c4",
   "metadata": {},
   "outputs": [
    {
     "name": "stdout",
     "output_type": "stream",
     "text": [
      "Best: nan using {'criterion': 'gini', 'max_features': 'auto', 'min_samples_leaf': 25, 'min_samples_split': 2, 'n_estimators': 1}\n"
     ]
    }
   ],
   "source": [
    "print(\"Best: %f using %s\" % (grid_rf_metrics.best_score_, grid_rf_metrics.best_params_))"
   ]
  },
  {
   "cell_type": "code",
   "execution_count": 77,
   "id": "e6df731e",
   "metadata": {},
   "outputs": [
    {
     "name": "stdout",
     "output_type": "stream",
     "text": [
      "[[214  36   2   2  22]\n",
      " [ 43  83  21   4  51]\n",
      " [ 49  43  47  18 102]\n",
      " [ 12  27  23  36 112]\n",
      " [ 54  24  43  66 498]]\n",
      "0.5379901960784313\n",
      "              precision    recall  f1-score   support\n",
      "\n",
      "           1       0.58      0.78      0.66       276\n",
      "           2       0.39      0.41      0.40       202\n",
      "           3       0.35      0.18      0.24       259\n",
      "           4       0.29      0.17      0.21       210\n",
      "           5       0.63      0.73      0.68       685\n",
      "\n",
      "    accuracy                           0.54      1632\n",
      "   macro avg       0.45      0.45      0.44      1632\n",
      "weighted avg       0.50      0.54      0.51      1632\n",
      "\n"
     ]
    }
   ],
   "source": [
    "y_pred_rfm = model_tuning_RF.predict(X_test)\n",
    "# metrics\n",
    "print(confusion_matrix(Y_test, y_pred_rfm))\n",
    "print(accuracy_score(Y_test, y_pred_rfm))\n",
    "\n",
    "\n",
    "#CLassification Report\n",
    "from sklearn.metrics import classification_report\n",
    "report = classification_report(Y_test,y_pred_rfm)\n",
    "print(report)"
   ]
  },
  {
   "cell_type": "markdown",
   "id": "f0e93444",
   "metadata": {},
   "source": [
    "No best score obtained. So, let us choose 85%"
   ]
  },
  {
   "cell_type": "markdown",
   "id": "3d16686c",
   "metadata": {},
   "source": [
    "# Ridge Classifier"
   ]
  },
  {
   "cell_type": "code",
   "execution_count": 78,
   "id": "8a432e7b",
   "metadata": {},
   "outputs": [
    {
     "name": "stdout",
     "output_type": "stream",
     "text": [
      "[[275   1   0   0   0]\n",
      " [176  26   0   0   0]\n",
      " [ 69  37   1  13 139]\n",
      " [  0   0   2  10 198]\n",
      " [  0   0   1  16 668]]\n",
      "0.6004901960784313\n",
      "              precision    recall  f1-score   support\n",
      "\n",
      "           1       0.53      1.00      0.69       276\n",
      "           2       0.41      0.13      0.20       202\n",
      "           3       0.25      0.00      0.01       259\n",
      "           4       0.26      0.05      0.08       210\n",
      "           5       0.66      0.98      0.79       685\n",
      "\n",
      "    accuracy                           0.60      1632\n",
      "   macro avg       0.42      0.43      0.35      1632\n",
      "weighted avg       0.49      0.60      0.48      1632\n",
      "\n"
     ]
    }
   ],
   "source": [
    "from sklearn.linear_model import RidgeClassifier\n",
    "rid_clf = RidgeClassifier()\n",
    "rid_clf.fit(X_train, Y_train)\n",
    "y_pred_rid = rid_clf.predict(X_test)\n",
    "# metrics\n",
    "print(confusion_matrix(Y_test, y_pred_rid))\n",
    "print(accuracy_score(Y_test, y_pred_rid))\n",
    "\n",
    "\n",
    "#CLassification Report\n",
    "from sklearn.metrics import classification_report\n",
    "report = classification_report(Y_test,y_pred_rid)\n",
    "print(report)"
   ]
  },
  {
   "cell_type": "markdown",
   "id": "58f7ee50",
   "metadata": {},
   "source": [
    "# Bagging Classifier"
   ]
  },
  {
   "cell_type": "code",
   "execution_count": 79,
   "id": "dc04370c",
   "metadata": {},
   "outputs": [
    {
     "name": "stdout",
     "output_type": "stream",
     "text": [
      "[[254  21   1   0   0]\n",
      " [ 37 151  14   0   0]\n",
      " [  9  21 192  18  19]\n",
      " [  0   0  11 148  51]\n",
      " [  0   0  32  34 619]]\n",
      "0.8357843137254902\n",
      "              precision    recall  f1-score   support\n",
      "\n",
      "           1       0.85      0.92      0.88       276\n",
      "           2       0.78      0.75      0.76       202\n",
      "           3       0.77      0.74      0.75       259\n",
      "           4       0.74      0.70      0.72       210\n",
      "           5       0.90      0.90      0.90       685\n",
      "\n",
      "    accuracy                           0.84      1632\n",
      "   macro avg       0.81      0.80      0.80      1632\n",
      "weighted avg       0.83      0.84      0.83      1632\n",
      "\n"
     ]
    }
   ],
   "source": [
    "from sklearn.ensemble import BaggingClassifier\n",
    "bag_clf = BaggingClassifier()\n",
    "bag_clf.fit(X_train, Y_train)\n",
    "y_pred_bag = bag_clf.predict(X_test)\n",
    "# metrics\n",
    "print(confusion_matrix(Y_test, y_pred_bag))\n",
    "print(accuracy_score(Y_test, y_pred_bag))\n",
    "\n",
    "\n",
    "#CLassification Report\n",
    "from sklearn.metrics import classification_report\n",
    "report = classification_report(Y_test,y_pred_bag)\n",
    "print(report)"
   ]
  },
  {
   "cell_type": "code",
   "execution_count": 80,
   "id": "0b026976",
   "metadata": {},
   "outputs": [
    {
     "name": "stdout",
     "output_type": "stream",
     "text": [
      "[[234  37   5   0   0]\n",
      " [ 36 148  18   0   0]\n",
      " [ 15  29 119  27  69]\n",
      " [  0   0  38  49 123]\n",
      " [  0   0  32  35 618]]\n",
      "0.7156862745098039\n",
      "              precision    recall  f1-score   support\n",
      "\n",
      "           1       0.82      0.85      0.83       276\n",
      "           2       0.69      0.73      0.71       202\n",
      "           3       0.56      0.46      0.51       259\n",
      "           4       0.44      0.23      0.31       210\n",
      "           5       0.76      0.90      0.83       685\n",
      "\n",
      "    accuracy                           0.72      1632\n",
      "   macro avg       0.66      0.64      0.64      1632\n",
      "weighted avg       0.69      0.72      0.70      1632\n",
      "\n"
     ]
    }
   ],
   "source": [
    "from sklearn.ensemble import GradientBoostingClassifier\n",
    "grd_clf = GradientBoostingClassifier()\n",
    "grd_clf.fit(X_train, Y_train)\n",
    "y_pred_grd = grd_clf.predict(X_test)\n",
    "# metrics\n",
    "print(confusion_matrix(Y_test, y_pred_grd))\n",
    "print(accuracy_score(Y_test, y_pred_grd))\n",
    "\n",
    "\n",
    "#CLassification Report\n",
    "from sklearn.metrics import classification_report\n",
    "report = classification_report(Y_test,y_pred_grd)\n",
    "print(report)"
   ]
  },
  {
   "cell_type": "markdown",
   "id": "cb5bbf03",
   "metadata": {},
   "source": [
    "Analysis Result:                                                                                                           \n",
    "Accuracy Values of each algorithm:                                                                                         \n",
    "Logarithmic Regression: 67.5%                                                                                             \n",
    "SVM Polynomial: 73.9%                                                                                                      \n",
    "SVM RBF: 71.9%                                                                                                            \n",
    "Decision Tree: 78.79%                                                                                                     \n",
    "kNN : 63.78%                                                                                                              \n",
    "Ridge : 60%                                                                                                                \n",
    "Bagging Classifier : 83.57%                                                                                                \n",
    "GradientBoostingClassifier : 71.56%                                                                                         \n",
    "Random Forest Classifier gave an accuracy of 85%. Hence, this model is selected"
   ]
  },
  {
   "cell_type": "code",
   "execution_count": null,
   "id": "f892e874",
   "metadata": {},
   "outputs": [],
   "source": []
  }
 ],
 "metadata": {
  "kernelspec": {
   "display_name": "Python 3 (ipykernel)",
   "language": "python",
   "name": "python3"
  },
  "language_info": {
   "codemirror_mode": {
    "name": "ipython",
    "version": 3
   },
   "file_extension": ".py",
   "mimetype": "text/x-python",
   "name": "python",
   "nbconvert_exporter": "python",
   "pygments_lexer": "ipython3",
   "version": "3.10.9"
  }
 },
 "nbformat": 4,
 "nbformat_minor": 5
}
